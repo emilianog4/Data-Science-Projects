{
 "cells": [
  {
   "cell_type": "code",
   "execution_count": 1,
   "id": "2ac3646f-e41b-4561-91d6-0e4aeaf6ce50",
   "metadata": {},
   "outputs": [],
   "source": [
    "#Comienzo con la limpieza de datos\n",
    "\n",
    "import pandas as pd\n",
    "\n",
    "df_historical_data = pd.read_csv('fifa_worldcup_historical_data.csv')\n",
    "df_fixture = pd.read_csv('fifa_worldcup_fixture.csv')\n"
   ]
  },
  {
   "cell_type": "code",
   "execution_count": 2,
   "id": "9c4b2b94-fd28-495e-9d6c-73acd8078567",
   "metadata": {},
   "outputs": [],
   "source": [
    "#Limpiando en df_fixture los posibles valores en blanco\n",
    "df_fixture['home'] = df_fixture['home'].str.strip()\n",
    "df_fixture['away'] = df_fixture['away'].str.strip()"
   ]
  },
  {
   "cell_type": "code",
   "execution_count": 3,
   "id": "da168ea2-8504-4f43-8843-30deedada715",
   "metadata": {},
   "outputs": [],
   "source": [
    "#Limpiando df_historical_data\n",
    "df_historical_data.drop_duplicates(inplace=True)\n",
    "df_historical_data.sort_values('year', inplace=True)\n",
    "\n",
    "#Seleccionamos el indice de la fila que contiene un valor atipico\n",
    "delete_index = df_historical_data[df_historical_data['home'].str.contains('Sweden') & \n",
    "               df_historical_data['away'].str.contains('Austria')].index\n",
    "\n",
    "#Con drop borramos esa fila\n",
    "df_historical_data.drop(index=delete_index, inplace=True)"
   ]
  },
  {
   "cell_type": "code",
   "execution_count": 4,
   "id": "f92be072-8443-494c-bb4e-eedb63ebfd31",
   "metadata": {},
   "outputs": [],
   "source": [
    "#Reemplazamos los parentesis que aparecen despues de algunos resultados\n",
    "df_historical_data['score'] = df_historical_data['score'].str.replace('[^\\d-]', ' ', regex=True)"
   ]
  },
  {
   "cell_type": "code",
   "execution_count": 5,
   "id": "98999263-94e4-4f03-9849-bdc974e0320b",
   "metadata": {},
   "outputs": [],
   "source": [
    "#Limpiando en df_historical_data los posibles valores en blanco\n",
    "df_historical_data['home'] = df_historical_data['home'].str.strip()\n",
    "df_historical_data['away'] = df_historical_data['away'].str.strip()\n"
   ]
  },
  {
   "cell_type": "code",
   "execution_count": 6,
   "id": "694c05e9-57a0-4417-85c2-eb42783505a8",
   "metadata": {},
   "outputs": [],
   "source": [
    "#Agrego 2 columnas llamadas HomeGoals y AwayGoals las cuales contienen los goles de score\n",
    "df_historical_data[['HomeGoals', 'AwayGoals']] = df_historical_data['score'].str.split('', expand=True).drop([0, 2, 4, 5, 6, 7, 8, 9, 10, 11, 12, 13], axis=1)\n"
   ]
  },
  {
   "cell_type": "code",
   "execution_count": 7,
   "id": "e20d8dff-7a7c-4938-bb01-0259c442fb86",
   "metadata": {},
   "outputs": [],
   "source": [
    "#Elimino la columna score ya que ahora tengo el resultado dividido en 2 columnas nuevas\n",
    "df_historical_data.drop('score', axis=1, inplace=True) #axis=1 es para eliminar columnas, axis=0 es para eliminar filas"
   ]
  },
  {
   "cell_type": "code",
   "execution_count": 8,
   "id": "6834c59b-9cd1-41c7-af8f-5a91405a6d84",
   "metadata": {},
   "outputs": [],
   "source": [
    "df_historical_data.rename(columns={'home':'HomeTeam', 'away':'AwayTeam', 'year':'Year'}, inplace=True)"
   ]
  },
  {
   "cell_type": "code",
   "execution_count": 28,
   "id": "ed79d666-7c1e-48c9-bb5f-6824eec16f88",
   "metadata": {},
   "outputs": [],
   "source": [
    "df_historical_data.dtypes #Para ver de que tipo es cada columna \n",
    "df_historical_data = df_historical_data.astype({'HomeGoals': int, 'AwayGoals': int}) "
   ]
  },
  {
   "cell_type": "code",
   "execution_count": null,
   "id": "749d0bfb-9b75-4c09-b66b-3b24dcf4f21c",
   "metadata": {},
   "outputs": [],
   "source": [
    "#df_historical_data['AwayGoals'] = df_historical_data['AwayGoals'].str.replace(' ', '1')\n",
    "df_historical_data.iloc[262] #Aqui tuve un problema y lo solucione asignando el valor 1 a AwayGoals que estaba vacio, la fila corresponde al partido de 1982 entre Hungary y El Salvador"
   ]
  },
  {
   "cell_type": "code",
   "execution_count": 33,
   "id": "2f42a5b8-b258-4330-9df8-9c90680ac84d",
   "metadata": {},
   "outputs": [],
   "source": [
    "#Exportando el dataframe limpio\n",
    "df_historical_data.to_csv('clean_fifa_worldcup_historical_data.csv', index=False)\n",
    "df_fixture.to_csv('clean_fifa_worldcup_fixture.csv', index=False)"
   ]
  },
  {
   "cell_type": "code",
   "execution_count": null,
   "id": "9e7951a9-b3a9-4339-bc56-93a6bb7534b5",
   "metadata": {},
   "outputs": [],
   "source": []
  }
 ],
 "metadata": {
  "kernelspec": {
   "display_name": "anaconda-2022.05-py39",
   "language": "python",
   "name": "conda-env-anaconda-2022.05-py39-py"
  },
  "language_info": {
   "codemirror_mode": {
    "name": "ipython",
    "version": 3
   },
   "file_extension": ".py",
   "mimetype": "text/x-python",
   "name": "python",
   "nbconvert_exporter": "python",
   "pygments_lexer": "ipython3",
   "version": "3.9.12"
  }
 },
 "nbformat": 4,
 "nbformat_minor": 5
}
