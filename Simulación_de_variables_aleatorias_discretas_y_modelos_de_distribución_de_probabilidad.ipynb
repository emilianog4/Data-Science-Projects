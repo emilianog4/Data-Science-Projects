{
  "cells": [
    {
      "cell_type": "markdown",
      "metadata": {
        "id": "view-in-github",
        "colab_type": "text"
      },
      "source": [
        "<a href=\"https://colab.research.google.com/github/emilianog4/Data-Science-Projects/blob/main/Simulaci%C3%B3n_de_variables_aleatorias_discretas_y_modelos_de_distribuci%C3%B3n_de_probabilidad.ipynb\" target=\"_parent\"><img src=\"https://colab.research.google.com/assets/colab-badge.svg\" alt=\"Open In Colab\"/></a>"
      ]
    },
    {
      "cell_type": "markdown",
      "metadata": {
        "id": "pR93WFeRk9Qq"
      },
      "source": [
        "# Simulación de variables aleatorias discretas y modelos de distribución de probabilidad\n",
        "\n",
        "En este *notebook* estudiaremos dos enfoques para el estudio de las variables aleatorias:\n",
        "\n",
        "- Calcular probabilidades y distribuciones a mano, de forma exacta, usando la teoría de probabilidades que estudiamos y utilizando Python como \"calculadora\".\n",
        "\n",
        "- Simular el experimento y/o las distribuciones y calcular y/o estimar las probabilidades a partir de la frecuencia relativa.\n",
        "\n",
        "Esta semana no habrá Trabajo de Simulación porque es posible que estén terminando el Trabajo de Simulación 1 por estos días. Nos reservamos la simulación de variables aleatorias para el Trabajo de Simulación 2, que veremos recién en la próxima posta (variables aleatorias continuas). Sin embargo, al final de este *notebook* encontrarás una visualización de la aproximación de la binomial a la Poisson y ver, empíricamente, aquello que estudiamos desde la teoría."
      ]
    },
    {
      "cell_type": "markdown",
      "source": [
        "## Cálculo de probabilidades\n",
        "\n",
        "Comenzaremos esta sección calculando \"a mano\" algunas probabilidades que surgen de ejercicios similares a los del Libro y la Práctica 2. Sin embargo, antes de empezar, conviene cargar módulos y librerías que usaremos a lo largo de este notebook."
      ],
      "metadata": {
        "id": "yc6GiBkzyP2M"
      }
    },
    {
      "cell_type": "code",
      "source": [
        "# Cargamos las librerías que ya estudiamos en el notebook 1\n",
        "import numpy as np\n",
        "import random as rd\n",
        "\n",
        "# Pero vamos a usar algunas más...\n",
        "# De scipy importamos stats para poder tener generadores de muestras provenientes\n",
        "# de las variables aleatorias usuales (https://docs.scipy.org/doc/scipy/reference/stats.html)\n",
        "from scipy import stats\n",
        "\n",
        "# E importamos algunas más para poder hacer algunos gráficos útiles\n",
        "import seaborn as sns\n",
        "import matplotlib.pyplot as plt\n",
        "\n",
        "# Fijamos una semilla para que todo sea reproducible\n",
        "rd.seed(123)\n",
        "\n",
        "# Y definimos unos parámetros estéticos de seaborn para que todo luzca mejor\n",
        "sns.set_palette(\"deep\", desat=.6)\n",
        "sns.set_context(rc={\"figure.figsize\": (8, 4)})\n",
        "\n",
        "# Para evitar que nos aparezcan resultados en notación científica\n",
        "np.set_printoptions(suppress=True)"
      ],
      "metadata": {
        "id": "jPaXJQ0e_Ux7"
      },
      "execution_count": null,
      "outputs": []
    },
    {
      "cell_type": "markdown",
      "source": [
        "### Ejemplo inicial: la variable aleatoria \"suma\" en el lanzamiento de dos dados\n",
        "\n",
        "Como sabemos, una variable aleatoria es una *función* que asocia elementos $w$ del espacio muestral $\\Omega$ a números. Para terminar de fijar esta idea, recupremos un ejemplo que empezamos a mirar en la posta 1.\n",
        "\n",
        "Consideremos el experimento de lanzar dos dados equilibrados. El espacio muestral equiprobable y finito más conveniente, como vimos, es\n",
        "$$\\Omega = \\{(d_1,d_2) \\text{ con } d_1,d_2\\in \\{1,2,3,4,5,6\\}\\}.$$ Cada elemento $w$ de $\\Omega$ tiene igual probabilidad, es decir:\n",
        "$$P(w_i)=\\frac{1}{36}, \\text{ para todo $i$ entre 1 y 36.}$$\n",
        "\n",
        "Vamos a definir una variable aleatoria $X$ que sea la suma de $d_1+d_2$. ¿Cuál es el rango de esta variable? Es decir, ¿qué valores puede tomar? Es fácil ver que su rango va de 2 a 12, es decir, $$R_X=\\{2,3,\\ldots,11,12\\}.$$\n",
        "\n",
        "De esta forma, la variable aleatoria $X$ es una *función* que asocia elementos $w$ del espacio muestral $\\Omega$ a los números $\\{2,3,\\ldots,11,12\\}$.\n",
        "\n",
        "Por ejemplo, $X$ asigna el valor $2$ a partir de tomar el elemento $w_1=(1,1)$ de $\\Omega$. Es decir,\n",
        "$$\\{X=2\\} = \\{(1,1)\\}.$$\n",
        "\n",
        "Por otro lado, $X$ asigna el valor $3$ a partir de tomar los elementos $w_2=(2,1)$ y $w_3=(1,2)$ de $\\Omega$. Es decir,\n",
        "$$\\{X=3\\} = \\{(2,1),(2,2)\\}.$$\n",
        "\n",
        "Y podemos repetir esto para todos los valores que asigna $X$ a partir de los elementos de $\\Omega$, hasta \"agotarlos\" todos.\n",
        "\n",
        "Ahora bien, lo que nos va a interesar es calcular la probabilidad para todos los posibles valores que puede tomar $X$. Pero como cada valor de los que toma $X$ está asociado a elemento/s del espacio muestral cuya probabilidad conocemos, ¡podemos hacerlo sin problemas! Por ejemplo,\n",
        "\n",
        "$$P(\\{X=2\\}) = P(\\{(1,1)\\}) = \\frac{1}{36},$$\n",
        "\n",
        "o bien,\n",
        "\n",
        "$$P(\\{X=3\\}) = P(\\{(2,1),(1,2)\\}) = \\frac{2}{36}.$$\n",
        "\n",
        "Al final, la probabilidad de que $X$ tome cualquier valor de su rango es algo que podemos calcular ¡sin problemas!, pues todo recae en contar cuántos eventos elementales de probabilidad $1/36$ se involucran.\n",
        "\n",
        "Podemos calcular $P(X=x)$ para todo $x\\in R_X$. Hagamos esas cuentas con Python, para evitar contar todos los casos a mano."
      ],
      "metadata": {
        "id": "sz86QlP8D4yT"
      }
    },
    {
      "cell_type": "code",
      "source": [
        "# Armamos los dados\n",
        "dado1 = range(1,7)\n",
        "dado2 = range(1,7)\n",
        "\n",
        "# Armamos la variable que devuelve la suma de todos los elementos de Omega\n",
        "X = [d1 + d2 for d1 in dado1 for d2 in dado2]\n",
        "X"
      ],
      "metadata": {
        "colab": {
          "base_uri": "https://localhost:8080/"
        },
        "id": "n9-W7OAC-mzl",
        "outputId": "0d68a93c-7745-4917-9cb7-fffe48561944"
      },
      "execution_count": null,
      "outputs": [
        {
          "output_type": "execute_result",
          "data": {
            "text/plain": [
              "[2,\n",
              " 3,\n",
              " 4,\n",
              " 5,\n",
              " 6,\n",
              " 7,\n",
              " 3,\n",
              " 4,\n",
              " 5,\n",
              " 6,\n",
              " 7,\n",
              " 8,\n",
              " 4,\n",
              " 5,\n",
              " 6,\n",
              " 7,\n",
              " 8,\n",
              " 9,\n",
              " 5,\n",
              " 6,\n",
              " 7,\n",
              " 8,\n",
              " 9,\n",
              " 10,\n",
              " 6,\n",
              " 7,\n",
              " 8,\n",
              " 9,\n",
              " 10,\n",
              " 11,\n",
              " 7,\n",
              " 8,\n",
              " 9,\n",
              " 10,\n",
              " 11,\n",
              " 12]"
            ]
          },
          "metadata": {},
          "execution_count": 4
        }
      ]
    },
    {
      "cell_type": "code",
      "source": [
        "# En X tenemos todas las posibles sumas, pero, claro\n",
        "# ¡hay sumas repetidas! Es decir, diferentes elementos de Omega\n",
        "# dan lugar a una misma suma.\n",
        "\n",
        "# Para contarlos, usamos cl de collections\n",
        "import collections as cl\n",
        "\n",
        "# En Xcontador guardamos, para cada posible x, cuántas veces apareció\n",
        "Xcontador = cl.Counter(X)\n",
        "Xcontador"
      ],
      "metadata": {
        "colab": {
          "base_uri": "https://localhost:8080/"
        },
        "id": "KzqTUvKXAD_Y",
        "outputId": "d308b667-8681-457f-bee3-bb0a89a8e81d"
      },
      "execution_count": null,
      "outputs": [
        {
          "output_type": "execute_result",
          "data": {
            "text/plain": [
              "Counter({2: 1, 3: 2, 4: 3, 5: 4, 6: 5, 7: 6, 8: 5, 9: 4, 10: 3, 11: 2, 12: 1})"
            ]
          },
          "metadata": {},
          "execution_count": 5
        }
      ]
    },
    {
      "cell_type": "code",
      "source": [
        "# Acá, los ordenamos por cantidad de veces que apareció una suma\n",
        "Xcuantos = Xcontador.most_common()\n",
        "Xcuantos.sort()\n",
        "\n",
        "# Xcuantos guarda un par, con primera componente el valor x de la suma\n",
        "# y con segunda componente la cantidad de elementos de Omega\n",
        "# que dieron lugar a ese valor x de la suma\n",
        "print(Xcuantos)"
      ],
      "metadata": {
        "colab": {
          "base_uri": "https://localhost:8080/"
        },
        "id": "JDDd2J2EAKRs",
        "outputId": "e968269e-a19d-404a-e2c0-6f175f9c0a24"
      },
      "execution_count": null,
      "outputs": [
        {
          "output_type": "stream",
          "name": "stdout",
          "text": [
            "[(2, 1), (3, 2), (4, 3), (5, 4), (6, 5), (7, 6), (8, 5), (9, 4), (10, 3), (11, 2), (12, 1)]\n"
          ]
        }
      ]
    },
    {
      "cell_type": "code",
      "source": [
        "# Calculamos las probas\n",
        "n = len(X)\n",
        "x = range(0,n+1)\n",
        "px = [nx[1]/n for nx in Xcuantos]\n",
        "print(\"Las probas puntuales son:\", np.round(px,5))"
      ],
      "metadata": {
        "colab": {
          "base_uri": "https://localhost:8080/"
        },
        "id": "gP4qYiEcAacL",
        "outputId": "f5579ea3-c06f-479a-d823-d047d3cf08d6"
      },
      "execution_count": null,
      "outputs": [
        {
          "output_type": "stream",
          "name": "stdout",
          "text": [
            "Las probas puntuales son: [0.02778 0.05556 0.08333 0.11111 0.13889 0.16667 0.13889 0.11111 0.08333\n",
            " 0.05556 0.02778]\n"
          ]
        }
      ]
    },
    {
      "cell_type": "markdown",
      "source": [
        "¿Qué hicimos en el código anterior?\n",
        "\n",
        "Calculamos las probabilidades puntuales $P(X=x)$ para todo $x\\in R_X$ para la variable aleatoria $X$ que **construimos** a partir de un **experimento aleatorio**. ¿Cómo lo hicimos? Similar a cómo trabajamos en la posta anterior, cuando solo sabíamos calcular probabilidades en un espacio equiprobable.\n",
        "\n",
        "¿Para qué usamos Python? Para hacer algo que podríamos haber hecho a mano (¡qué pérdida de tiempo, ufff!). Bueno, no tanto... estudiar la probabilidad de una la variable que resulta de la suma de **DOS** dados es algo que es fácil calcular \"a mano\", básicamente, porque **no es tan tedioso contarlos manualmente**. Pero si quisiéramos la suma de **TRES** dados... ¡sería bastante más tedioso! En cambio, con el código que acabamos de armar, ¡solo deberíamos agregar un ``dado3`` e incorporarlo a la suma cuando definimos ``X``. ¡Y voilá!\n",
        "\n",
        "**Te dejamos como inquietud que lo pruebes, y que pruebes, incluso, con la suma de más de tres dados...**\n",
        "\n",
        "La moraleja de este ejemplo inicial es: ¡podemos definir cualquier variable aleatoria de interés a partir de un experimento y, muy posiblemente, estudiar cómo se distribuye su probabilidad a partir de contar a \"cuántos\" elementos de un espacio equiprobable \"captura\"! Y esto vale **SIEMPRE**, para cualquier problema que nos interese abordar."
      ],
      "metadata": {
        "id": "_lrQnDTrEM8I"
      }
    },
    {
      "cell_type": "markdown",
      "source": [
        "### Distribución Bernoulli\n",
        "Sea $X$ la variable aleatoria con distribución Bernoulli de parámetro $p$, siendo $p=P(\\text{éxito})$. Es decir $X\\sim Be(p), \\text{ con } R_X=\\{0,1\\}$."
      ],
      "metadata": {
        "id": "VPMyrfO09rBI"
      }
    },
    {
      "cell_type": "markdown",
      "source": [
        "#### La simulamos \"a mano\"\n",
        "\n",
        "Vamos a simular una distribución Bernoulli con lo que aprendimos en la posta 1. En particular, vamos a simular el lanzamiento de una moneda cargada: con probabilidad $0.7$ sale cara (el evento de interés) y con probabilidad $0.3$ sale cruz. En símbolos:\n",
        "\n",
        "$$\\Omega=\\{\\text{cara, cruz}\\}$$\n",
        "\n",
        "y definimos la variable aleatoria $X$ que toma el valor $1$ si sale \"cara\" y 0, si no. Es decir,\n",
        "$$R_X=\\{0,1\\},$$\n",
        "y como la moneda está cargada\n",
        "$$P(X=0)=P(\\text{cruz})=0.3,$$\n",
        "$$P(X=1)=P(\\text{cara})=0.7.$$\n",
        "\n",
        "Vamos a querer estimar $P(X=1)$ a partir de una simulación."
      ],
      "metadata": {
        "id": "t34jZgt_9wZE"
      }
    },
    {
      "cell_type": "code",
      "source": [
        "#### 1: Experimento aleatorio\n",
        "moneda = list(range(0,2))\n",
        "\n",
        "def experimento_moneda_cargada():\n",
        "    '''\n",
        "    Función aleatoria que devuelve el resultado de simular el experimento *una vez*.\n",
        "    El resultado es distinto cada vez que llamamos a la función.\n",
        "    El resultado es un número: 1, si éxito; 0, si fracaso\n",
        "    '''\n",
        "    resultado = rd.choices(moneda, weights=(0.3,0.7), k=1)\n",
        "    return resultado"
      ],
      "metadata": {
        "id": "7eLKNY5L9vdi"
      },
      "execution_count": null,
      "outputs": []
    },
    {
      "cell_type": "code",
      "source": [
        "# La chequeamos\n",
        "experimento_moneda_cargada()"
      ],
      "metadata": {
        "colab": {
          "base_uri": "https://localhost:8080/"
        },
        "id": "LYhPHDl8FNto",
        "outputId": "4ac1506a-a44a-4b74-8b4f-4ffef4707d97"
      },
      "execution_count": null,
      "outputs": [
        {
          "output_type": "execute_result",
          "data": {
            "text/plain": [
              "[0]"
            ]
          },
          "metadata": {},
          "execution_count": 9
        }
      ]
    },
    {
      "cell_type": "code",
      "source": [
        "#### 2: Muestra aleatoria\n",
        "rd.seed(123)\n",
        "N = 10000\n",
        "muestra = [experimento_moneda_cargada() for _ in range(N)]\n",
        "\n",
        "#### 3: Una función _\"filtro\"_\n",
        "def sale_cara(resultado):\n",
        "    return resultado == [1]\n",
        "\n",
        "#### 4: Aproximamos P(E) por la proporción de elementos de E en la muestra\n",
        "prob = sum(1 for e in muestra if sale_cara(e))/N\n",
        "print(f'Probabilidad aproximada de que salga cara, P(X=1), es', prob)"
      ],
      "metadata": {
        "colab": {
          "base_uri": "https://localhost:8080/"
        },
        "id": "WgqYSu_xFi8b",
        "outputId": "dcd882f0-4532-4371-bd58-b946e94c20ae"
      },
      "execution_count": null,
      "outputs": [
        {
          "output_type": "stream",
          "name": "stdout",
          "text": [
            "Probabilidad aproximada de que salga cara, P(X=1), es 0.7022\n"
          ]
        }
      ]
    },
    {
      "cell_type": "markdown",
      "source": [
        "#### La computamos con ``stats``\n",
        "\n",
        "Está claro que siempre vamos a poder definir variables aleatorias \"a mano\", sin embargo, es una tarea bastante costosa y sería deseable que existiera alguna forma \"económica\" de hacerlo. De hecho, eso ocurre con ``stats``: vamos a poder usar diferentes distribuciones que ya vienen precargadas. Comencemos por estudiar la Bernoulli asociada a nuestra moneda cargada."
      ],
      "metadata": {
        "id": "3pvmHCLD965P"
      }
    },
    {
      "cell_type": "code",
      "source": [
        "# Definimos la probabilidad de \"éxito\" (moneda cargada, que salga cara es 0.7)\n",
        "p = 0.7\n",
        "\n",
        "# Definimos la bernoulli\n",
        "# Para ello, usamos la instrucción stats.bernoulli()\n",
        "ber = stats.bernoulli(p)\n",
        "\n",
        "# Rango de X\n",
        "x = range(0,2)\n",
        "\n",
        "# Evaluamos la función de probabilidad puntual (fpp) en los x del rango\n",
        "# Para ello, usamos la instrucción .pmf()\n",
        "px = ber.pmf(x)\n",
        "\n",
        "# Hacemos un gráfico de la fpp, vamos a usar la librería matplotlib que importamos como plt\n",
        "# Este código general lineas verticales en los valores de x,\n",
        "# que arrancan en 0 y tienen altura px: ¡las \"barritas\" de la proba puntual\n",
        "plt.vlines(x, 0, px, colors='C0', lw=5)\n",
        "\n",
        "# Estos son parámetros estéticos, a gusto\n",
        "plt.xlabel('$x \\in R_X$')\n",
        "plt.ylabel('$p_X(x)=P(X=x)$')\n",
        "plt.title(f\"$X \\sim$ Be(%.2f)\" % (p));\n",
        "# Usamos ; al final para pedir que muestre el gráfico\n",
        "# También podríamos usar plt.show()"
      ],
      "metadata": {
        "colab": {
          "base_uri": "https://localhost:8080/",
          "height": 476
        },
        "id": "VJNGCCDS-FTy",
        "outputId": "5ecc5054-0a01-4c7c-e5e1-7f683c355bd7"
      },
      "execution_count": null,
      "outputs": [
        {
          "output_type": "display_data",
          "data": {
            "text/plain": [
              "<Figure size 640x480 with 1 Axes>"
            ],
            "image/png": "[encoded data removed]"
          },
          "metadata": {}
        }
      ]
    },
    {
      "cell_type": "markdown",
      "source": [
        "### Distribución binomial\n",
        "Sea $X$ la variable aleatoria que cuenta la cantidad de éxitos en $n$\n",
        "repeticiones independientes de un ensayo Bernoulli con probabilidad de éxito $p$. Esta variable $X$ tiene distribución binomial de parámetros $n$ y $p$. Es decir $X\\sim Binom(n,p), \\text{ con } R_X=\\{0,\\cdots,n\\}$."
      ],
      "metadata": {
        "id": "raVh_UjOuhLs"
      }
    },
    {
      "cell_type": "code",
      "source": [
        "# Repeticiones independientes\n",
        "n = 10\n",
        "\n",
        "# Probabilidad de \"éxito\"\n",
        "p = 0.5\n",
        "\n",
        "# Definimos la binomial\n",
        "binomial = stats.binom(n, p)\n",
        "\n",
        "# Rango de X\n",
        "x = range(0,n+1)\n",
        "\n",
        "# Evaluamos la función de probabilidad puntual (fpp) en los x del rango\n",
        "px = binomial.pmf(x)\n",
        "\n",
        "# Hacemos un gráfico de la fpp\n",
        "plt.vlines(x, 0, px, colors='C0', lw=5)\n",
        "plt.xlabel('$x \\in R_X$')\n",
        "plt.ylabel('$p_X(x)=P(X=x)$')\n",
        "plt.title(f\"$X \\sim$ Bi(%d, %.2f)\" % (n,p));"
      ],
      "metadata": {
        "colab": {
          "base_uri": "https://localhost:8080/",
          "height": 476
        },
        "id": "zlEIEYfvugxb",
        "outputId": "c02e09d2-98b1-436c-b165-1e61e250c909"
      },
      "execution_count": null,
      "outputs": [
        {
          "output_type": "display_data",
          "data": {
            "text/plain": [
              "<Figure size 640x480 with 1 Axes>"
            ],
            "image/png": "[encoded data removed]"
          },
          "metadata": {}
        }
      ]
    },
    {
      "cell_type": "markdown",
      "source": [
        "Podemos visualizar otra binomial, con otros parámetros. Por ejemplo, para el mismo $n$, cambiar $p$ y ver cómo cambia el gráfico de la función de probabilidad puntual. Es decir, **ver cómo cambia la \"distribución\" de esas \"barritas\"**."
      ],
      "metadata": {
        "id": "NAo-EJha-eo6"
      }
    },
    {
      "cell_type": "code",
      "source": [
        "# Podemos repetir cambiando p y viendo\n",
        "# cómo afecta eso a las probabilidades puntuales\n",
        "# Probabilidad de \"éxito\"\n",
        "p = 0.2\n",
        "\n",
        "# Definimos la binomial\n",
        "binomial = stats.binom(n, p)\n",
        "\n",
        "# Rango de X\n",
        "x = range(0,n+1)\n",
        "\n",
        "# Evaluamos la función de probabilidad puntual (fpp) en los x del rango\n",
        "px = binomial.pmf(x)\n",
        "\n",
        "# Hacemos un gráfico de la fpp\n",
        "plt.vlines(x, 0, px, colors='C0', lw=5)\n",
        "plt.xlabel('$x \\in R_X$')\n",
        "plt.ylabel('$p_X(x)=P(X=x)$')\n",
        "plt.title(f\"$X \\sim$ Bi(%d, %.2f)\" % (n,p));"
      ],
      "metadata": {
        "colab": {
          "base_uri": "https://localhost:8080/",
          "height": 476
        },
        "id": "awkbBVyRA-_B",
        "outputId": "9eaa4505-8455-4258-f988-21134d84648c"
      },
      "execution_count": null,
      "outputs": [
        {
          "output_type": "display_data",
          "data": {
            "text/plain": [
              "<Figure size 640x480 with 1 Axes>"
            ],
            "image/png": "[encoded data removed]"
          },
          "metadata": {}
        }
      ]
    },
    {
      "cell_type": "markdown",
      "source": [
        "Notemos que, efectivamente, la forma en que se \"distribuyen\" las barritas en ambos gráficos **no** es la misma: **al variar $p$ aun manteniendo $n$ igual, ¡la distribución de las probabilidades es diferente!**\n",
        "\n",
        "La variable sigue siendo binomial, pero podemos notar que la probabilidad se concentra mucho más \"a la izquierda\" cuando $p$ es pequeño, que cuando no lo es."
      ],
      "metadata": {
        "id": "wowxGzKYL7nR"
      }
    },
    {
      "cell_type": "markdown",
      "source": [
        "#### Esperanza y varianza\n",
        "Con el paquete stats, además de tener las distribuciones y sus funciones de probabilidad, también tenemos sus momentos, en particular: **esperanza y varianza**.\n",
        "\n",
        "Por ejemplo, con la instrucción ``binomial.stats(moments='mv')`` recuperamos la esperanza y la varianza de la binomial que hayamos definido. Esto ocurrirá de igual forma con todas las distribuciones que miremos con ``stats``."
      ],
      "metadata": {
        "id": "4pCJeku0Mx6-"
      }
    },
    {
      "cell_type": "code",
      "source": [
        "esperanza, varianza = binomial.stats(moments='mv')\n",
        "print(esperanza)\n",
        "print(varianza)"
      ],
      "metadata": {
        "colab": {
          "base_uri": "https://localhost:8080/"
        },
        "id": "HfaN0Q-Q3d-u",
        "outputId": "af821943-10af-46be-9a18-a99903c96514"
      },
      "execution_count": null,
      "outputs": [
        {
          "output_type": "stream",
          "name": "stdout",
          "text": [
            "2.0\n",
            "1.6\n"
          ]
        }
      ]
    },
    {
      "cell_type": "markdown",
      "source": [
        "### Distribución Geométrica\n",
        "\n",
        "Sea $X$ la variable aleatoria que cuenta la cantidad de repeticiones independientes hasta obtener el primer éxito en un ensayo Bernoulli con probabilidad de éxito $p$. Esta variable $X$ tiene distribución geométrica de parámetro $p$. Es decir $X\\sim Geom(p), \\text{ con } R_X=\\mathbb{N}$."
      ],
      "metadata": {
        "id": "eL4SKe-E4Xhq"
      }
    },
    {
      "cell_type": "code",
      "source": [
        "# Probabilidad de \"éxito\"\n",
        "p = 0.5\n",
        "\n",
        "# Definimos la geometrica\n",
        "geometrica = stats.geom(p)\n",
        "\n",
        "# Rango de X (es N, pero como es infinito, podremos solo evaluarla en un rango acotado)\n",
        "n = 15\n",
        "x = range(1,n+1)\n",
        "\n",
        "# Evaluamos la función de probabilidad puntual (fpp) en los x del rango\n",
        "px = geometrica.pmf(x)\n",
        "\n",
        "# Hacemos un gráfico de la fpp\n",
        "plt.vlines(x, 0, px, colors='C0', lw=5)\n",
        "plt.xlabel('$x \\in R_X$')\n",
        "plt.ylabel('$p_X(x)=P(X=x)$')\n",
        "plt.title(f\"$X \\sim$ Ge(%.2f)\" % (p));"
      ],
      "metadata": {
        "colab": {
          "base_uri": "https://localhost:8080/",
          "height": 476
        },
        "id": "J0t5tcrv4fCu",
        "outputId": "6b207d09-f62c-4d76-e1e7-f0ac133d6432"
      },
      "execution_count": null,
      "outputs": [
        {
          "output_type": "display_data",
          "data": {
            "text/plain": [
              "<Figure size 640x480 with 1 Axes>"
            ],
            "image/png": "[encoded data removed]"
          },
          "metadata": {}
        }
      ]
    },
    {
      "cell_type": "code",
      "source": [
        "esperanza, varianza = geometrica.stats(moments='mv')\n",
        "print(esperanza)\n",
        "print(varianza)"
      ],
      "metadata": {
        "colab": {
          "base_uri": "https://localhost:8080/"
        },
        "id": "LlBLkE835P65",
        "outputId": "d882c706-4ee9-4d91-dcb3-793bd665da7f"
      },
      "execution_count": null,
      "outputs": [
        {
          "output_type": "stream",
          "name": "stdout",
          "text": [
            "2.0\n",
            "2.0\n"
          ]
        }
      ]
    },
    {
      "cell_type": "markdown",
      "source": [
        "### Distribución Poisson\n",
        "Sea $X$ la variable aleatoria Poisson con parámetro de intensidad $\\lambda$. Es decir $X\\sim Poi(\\lambda), \\text{ con } R_X=\\mathbb{N}_0$."
      ],
      "metadata": {
        "id": "SJNqPtYs5Ppt"
      }
    },
    {
      "cell_type": "code",
      "source": [
        "# Intensidad\n",
        "lamb = 2\n",
        "\n",
        "# Definimos la Poisson\n",
        "poisson = stats.poisson(lamb)\n",
        "\n",
        "# Rango de X (es N_0, pero como es infinito, podremos solo evaluarla en un rango acotado)\n",
        "n = 11\n",
        "x = range(0,n+1)\n",
        "\n",
        "# Evaluamos la función de probabilidad puntual (fpp) en los x del rango\n",
        "px = poisson.pmf(x)\n",
        "\n",
        "# Hacemos un gráfico de la fpp\n",
        "plt.vlines(x, 0, px, colors='C0', lw=5)\n",
        "plt.xlabel('$x \\in R_X$')\n",
        "plt.ylabel('$p_X(x)=P(X=x)$')\n",
        "plt.title(f\"$X \\sim$ Poi(%.2f)\" % (lamb));"
      ],
      "metadata": {
        "colab": {
          "base_uri": "https://localhost:8080/",
          "height": 476
        },
        "id": "Cv1P-Lgb5Pd3",
        "outputId": "c0d4c6fc-a896-4b8d-8307-44aba3fb9f86"
      },
      "execution_count": null,
      "outputs": [
        {
          "output_type": "display_data",
          "data": {
            "text/plain": [
              "<Figure size 640x480 with 1 Axes>"
            ],
            "image/png": "[encoded data removed]"
          },
          "metadata": {}
        }
      ]
    },
    {
      "cell_type": "code",
      "source": [
        "esperanza, varianza = poisson.stats(moments='mv')\n",
        "print(esperanza)\n",
        "print(varianza)"
      ],
      "metadata": {
        "colab": {
          "base_uri": "https://localhost:8080/"
        },
        "id": "605Odhba9d52",
        "outputId": "64d00e16-cc0b-4457-cd1a-a3b1c364b213"
      },
      "execution_count": null,
      "outputs": [
        {
          "output_type": "stream",
          "name": "stdout",
          "text": [
            "2.0\n",
            "2.0\n"
          ]
        }
      ]
    },
    {
      "cell_type": "markdown",
      "source": [
        "## Cálculo y estimación de probabilidades con *``stats``*"
      ],
      "metadata": {
        "id": "zuwO-eCPPWS8"
      }
    },
    {
      "cell_type": "markdown",
      "source": [
        "Consideremos el experimento aleatorio que consiste en lanzar una moneda normal (¡no cargada!) y contar la cantidad de lanzamientos que son necesarios hasta obtener la primera cara.\n",
        "\n",
        "Es fácil ver que esa variable, $X$, que cuenta la cantidad de lanzamientos que son necesarios hasta obtener la primera cara es una variable con distribución geométrica de parámetro $p=0.5$.\n",
        "\n",
        "Entonces, algunas cosas que sabemos sobre $X$ son:\n",
        "\n",
        "- $X\\sim Geom(0.5)$,\n",
        "- $R_X=\\mathbb{N}$,\n",
        "- $p(x)=P(X=x)=0.5\\cdot 0.5^{x-1}$ para $x\\in R_X$."
      ],
      "metadata": {
        "id": "vlTnukx-SWd_"
      }
    },
    {
      "cell_type": "markdown",
      "source": [
        "Con todo esto, calculemos algunas probabilidades. Por ejemplo, la probabilidad de necesitar exactamente 5 repeticiones. Es decir,\n",
        "$P(X=5)=0.5\\cdot 0.5^{5-1}$."
      ],
      "metadata": {
        "id": "fCopqzISUOP3"
      }
    },
    {
      "cell_type": "code",
      "source": [
        "p = 0.5\n",
        "x = 5\n",
        "p * p**(x-1)"
      ],
      "metadata": {
        "colab": {
          "base_uri": "https://localhost:8080/"
        },
        "id": "DKYRcX_hUNVk",
        "outputId": "532e6a54-d5dd-4fb8-a73c-c65048d1f1ab"
      },
      "execution_count": null,
      "outputs": [
        {
          "output_type": "execute_result",
          "data": {
            "text/plain": [
              "0.03125"
            ]
          },
          "metadata": {},
          "execution_count": 19
        }
      ]
    },
    {
      "cell_type": "markdown",
      "source": [
        "O, también, la probabilidad de necesitar a lo sumo 5 repeticiones. Es decir,\n",
        "$P(X\\leq5)=0.5\\cdot 0.5^{1-1}+\\cdots+0.5\\cdot 0.5^{5-1}$."
      ],
      "metadata": {
        "id": "n4BmpATkU0Zo"
      }
    },
    {
      "cell_type": "code",
      "source": [
        "p = 0.5\n",
        "x = 5\n",
        "\n",
        "Rx = range(1,5+1)\n",
        "px = [p * p**(x-1) for x in Rx]\n",
        "sum(px)"
      ],
      "metadata": {
        "colab": {
          "base_uri": "https://localhost:8080/"
        },
        "id": "EpJrOtIAVHFn",
        "outputId": "ab613422-f5fd-4ffe-cc75-a83b28f7fa98"
      },
      "execution_count": null,
      "outputs": [
        {
          "output_type": "execute_result",
          "data": {
            "text/plain": [
              "0.96875"
            ]
          },
          "metadata": {},
          "execution_count": 20
        }
      ]
    },
    {
      "cell_type": "markdown",
      "source": [
        "Como vemos, ¡es muy probable obtener la primera cara en los primeros 5 lanzamientos!\n",
        "\n",
        "Este tipo de probabilidades, que son acumuladas, también podemos calcularlas con ``stats``. Más precisamente, queremos calcular $P(X\\leq x)$ para cualquier $x$ en una distribución dada. Eso será posible con la función ``.cdf()``."
      ],
      "metadata": {
        "id": "7CvctxzAVnCE"
      }
    },
    {
      "cell_type": "code",
      "source": [
        "# P(X<=5), con X dist Geom(0.5)\n",
        "p = 0.5\n",
        "x = 5\n",
        "stats.geom.cdf(x, p)"
      ],
      "metadata": {
        "colab": {
          "base_uri": "https://localhost:8080/"
        },
        "id": "dLXIFdapVld4",
        "outputId": "45236dc7-72a2-49f3-bfed-772e61306249"
      },
      "execution_count": null,
      "outputs": [
        {
          "output_type": "execute_result",
          "data": {
            "text/plain": [
              "0.96875"
            ]
          },
          "metadata": {},
          "execution_count": 30
        }
      ]
    },
    {
      "cell_type": "markdown",
      "source": [
        "Y, también, podríamos querer estimar esa probabilidad. ¿Cómo? Simulando $N$ repeticiones del experimento de lanzar la moneda y contar cuántas de esas $N$ veces fueron necesarias 5 o menos lanzamientos.\n",
        "\n",
        "Podemos simular muestras de distribuciones usando la funcion ``.rvs()``. Por ejemplo, simular una muestra $N=1000$ realizaciones de una variable aleatoria geométrica de parámetro 0.5 y observar que cada realización se corresponderá con la cantidad de lanzamientos necesarios hasta obtener la primera cara en cada una de las repeticiones de este imaginario experimento. Hagámoslo."
      ],
      "metadata": {
        "id": "JzU1adqTX03w"
      }
    },
    {
      "cell_type": "code",
      "source": [
        "N = 1000\n",
        "p = 0.5\n",
        "muestra = stats.geom.rvs(p, size=N)\n",
        "muestra"
      ],
      "metadata": {
        "colab": {
          "base_uri": "https://localhost:8080/"
        },
        "id": "U31F3JugPWAB",
        "outputId": "6cf5926f-ed81-4a85-8eed-f3cab182c8c6"
      },
      "execution_count": null,
      "outputs": [
        {
          "output_type": "execute_result",
          "data": {
            "text/plain": [
              "array([ 2,  2,  1,  2,  2,  2,  1,  4,  1,  3,  1,  2,  1,  2,  1,  2,  1,\n",
              "        1,  2,  1,  3,  1,  2,  4,  1,  2,  4,  1,  3,  3,  1,  1,  4,  1,\n",
              "        1,  1,  1,  2,  1,  1,  1,  1,  1,  1,  1,  1,  6,  2,  5,  1,  1,\n",
              "        1,  2,  9,  4,  2,  1,  1,  3,  4,  1,  1,  1,  1,  1,  3,  4,  2,\n",
              "        2,  3,  1,  4,  1,  1,  2,  2,  1,  5,  1,  2,  1,  1,  2,  1,  1,\n",
              "        3,  2,  5,  1,  1,  3,  2,  3,  4,  1,  1,  2,  2,  2,  4,  1,  3,\n",
              "        1,  1,  1,  1,  2,  1,  6,  1,  2,  1,  3,  4,  2,  2,  2,  1,  1,\n",
              "        1,  1,  2,  2,  2,  2,  2,  2,  1,  2,  1,  4,  1,  1,  2,  2,  2,\n",
              "        1,  1,  1,  1,  1,  1,  1,  4,  1,  1,  2,  2,  2,  1,  4,  2,  1,\n",
              "        1,  1,  1,  2,  1,  4,  1,  1,  3,  2,  2,  2,  2,  1,  1,  3,  3,\n",
              "        1,  1,  2,  1,  3,  2,  2,  2,  1,  7,  2,  5,  2,  1,  1,  2,  2,\n",
              "        2,  1,  1,  3,  1,  3,  1,  2,  2,  1,  3,  1,  5,  1,  2,  1,  2,\n",
              "        3,  2,  2,  1,  1,  1,  2,  3,  1,  1,  4,  1,  4,  1,  1,  6,  1,\n",
              "        3,  2,  1,  3,  1,  1,  1,  1,  2,  1,  2,  6,  1,  2,  3,  1,  1,\n",
              "        2,  1,  1,  4,  3,  2,  1,  1,  2,  5,  2,  3,  1,  1,  7,  4,  1,\n",
              "        3,  1,  1,  1,  2,  4,  2,  1,  1,  2,  2,  3,  2,  3,  1,  2,  5,\n",
              "        2,  2,  2,  3,  1,  6,  3,  2,  1,  6,  3,  1,  1,  2,  1,  2,  1,\n",
              "        1,  2,  1,  2,  1,  3,  7,  2,  4,  3,  2,  6,  2,  2,  1,  1,  2,\n",
              "        5,  1,  2,  4,  1,  3,  1,  1,  2,  1,  1,  4,  1,  1,  1,  2,  8,\n",
              "        1,  1,  1,  1,  2,  3,  2,  1,  2,  4,  6,  1,  1,  1,  2,  4,  2,\n",
              "        1,  7,  2,  3,  3,  1,  3,  2,  3,  1,  4,  3,  1,  2,  3,  4,  1,\n",
              "        3,  3,  3,  1,  2,  1,  1,  2,  1,  1,  2,  2,  6,  2,  2,  3,  3,\n",
              "        4,  2,  1,  3,  1,  7,  2,  1,  1,  2,  1,  3,  1,  2,  1,  1,  1,\n",
              "        2,  4,  2,  2,  2,  1,  2,  1,  2,  3,  1,  3,  3,  1,  2,  2,  1,\n",
              "        2,  2,  8,  1,  3,  1,  4,  2,  1,  2,  1,  1,  2,  5,  2,  2,  4,\n",
              "        1,  2,  2,  3,  1,  6,  1,  2,  2,  1,  3,  5,  3,  1,  3,  2,  1,\n",
              "        2,  1,  2,  3,  1,  1,  5,  2,  1,  2,  3,  1,  1,  2,  1,  4,  2,\n",
              "        1,  2,  2,  1,  1,  1,  1,  1,  2,  1,  1,  3,  1,  4,  2,  1,  2,\n",
              "        1,  1,  3,  2,  2,  1,  1,  5,  1,  2,  4,  3,  5,  1,  1,  4,  2,\n",
              "        1,  1,  1, 15,  1,  1,  2,  1,  2,  1,  3,  1,  1,  1,  3,  2,  1,\n",
              "        3,  2,  1,  1,  1,  3,  5,  2,  2,  1,  1,  5,  2,  3,  1,  1,  3,\n",
              "        1,  9,  1,  4,  1,  1,  2,  1,  4,  1,  3,  6,  2,  1,  1,  3,  1,\n",
              "        4,  1,  2,  1,  1,  2,  4,  1,  4,  3,  3,  9,  3,  1,  1,  1,  4,\n",
              "        1,  3,  1,  1,  4,  2,  1,  2,  4,  1,  2,  1,  1,  4,  3,  1,  1,\n",
              "        1,  1,  3,  3,  4,  2,  1,  1,  1,  1,  5,  2,  2,  1,  2,  1,  1,\n",
              "        1,  3,  2,  3,  6,  1,  3,  2,  1,  4,  1,  1,  1,  2,  2,  1,  4,\n",
              "        2,  1,  1,  2,  1,  8,  1,  1,  1,  1,  1,  2,  1,  1,  1,  2,  1,\n",
              "        1,  1,  1,  1,  1,  4,  4,  1,  2,  1,  1,  5,  2,  1,  2,  1,  1,\n",
              "        1,  2,  1,  4,  2,  1,  2,  3,  7,  3,  2,  3,  2,  2,  3,  1,  1,\n",
              "        4,  2,  1,  2,  1,  1,  1,  1,  1,  1,  2,  2,  1,  1,  1,  3,  1,\n",
              "        1,  2,  1,  2,  1,  4,  1,  1,  1,  5,  2,  2,  3,  3,  2,  1,  2,\n",
              "        1,  1,  1,  1,  3,  2,  1,  1,  1,  1,  1,  1,  2,  3,  1,  1,  2,\n",
              "        3,  3,  3,  2,  1,  1,  1,  2,  2,  2,  1,  1,  2,  2,  2,  1,  2,\n",
              "        1,  1,  1,  1,  3,  2,  2,  1,  1,  2,  5,  2,  1,  2,  2,  4,  3,\n",
              "        3,  1,  4,  2,  3,  2,  2,  1,  2,  1,  1,  1,  1,  1,  1,  2,  3,\n",
              "        3,  1,  2,  1,  2,  2,  1,  1,  3,  1,  1,  1,  1,  3,  1,  1,  1,\n",
              "        2,  3,  1,  4,  2,  2,  2,  4,  1,  1,  2,  1,  1,  1,  2,  3,  1,\n",
              "        1,  3,  3,  1,  1,  1,  2,  1,  2,  1,  6,  8,  1,  1,  2,  2,  1,\n",
              "        3,  3,  3,  2,  1,  2,  3,  2,  5,  2,  6,  2,  5,  1,  1,  1,  3,\n",
              "        3,  3,  2,  3,  3,  1,  1,  5,  2,  3,  4,  2,  5,  1,  2,  1,  2,\n",
              "        1,  2,  2,  1,  1,  1,  1,  1,  1,  1,  2,  1,  6,  1,  3,  5,  1,\n",
              "        1,  1,  2,  1,  1,  1,  4,  1,  3,  2,  2,  2,  2,  1,  3,  3,  1,\n",
              "        4,  2,  2,  1,  1,  2,  1,  1,  3,  1,  1,  1,  5,  1,  1,  1,  3,\n",
              "        3,  1,  4,  2,  4,  1,  2,  1,  1,  2,  1,  2,  1,  2,  4,  1,  2,\n",
              "        2,  2,  1,  3,  1,  2,  1,  1,  1,  1,  3,  3,  1,  4,  1,  1,  2,\n",
              "        3,  1,  3,  2,  3,  1,  2,  1,  2,  3,  1,  2,  1,  4,  2,  1,  7,\n",
              "        3,  3,  3,  7,  3,  3,  1,  1,  1,  1,  7,  2,  1,  2,  1,  1,  1,\n",
              "        5,  2,  1,  2,  1,  1,  1,  4,  1,  4,  5,  5,  1,  1,  1,  2,  1,\n",
              "        2,  4,  2,  1,  1,  1,  4,  2,  2,  2,  1,  4,  1,  1])"
            ]
          },
          "metadata": {},
          "execution_count": 31
        }
      ]
    },
    {
      "cell_type": "markdown",
      "source": [
        "Observemos que en ``muestra`` guardamos las ``N`` realizaciones de nuestra variable geométrica. Cada uno de los números que contiene ``muestra`` corresponde cuántos lanzamientos fueron necesarios, en esa realización del experimento aleatorio, hasta obtener la primera cara. Es como tener una lista en donde fuimos anotando la cantidad de veces que tardamos en obtener cara al lanzar ``N`` veces una moneda.\n",
        "\n",
        "Inspeccioná el objeto ``muestra`` y tratá de responder estas preguntas \"a ojo\":\n",
        "- ¿alguna vez se necesitaron 10 lanzamientos? ¿O 20?\n",
        "- ¿Cuál es la cantidad más frecuente de lanzamientos que fueron necesarios?\n",
        "- ¿Cuántos lanzamientos son necesarios, en promedio, para obtener cara?\n",
        "- ...\n",
        "\n",
        "Con los datos de ``muestra``, calculemos una estimación de $P(X\\leq 5)$. Para ello, contemos cuántos elementos de muestra son, en efecto, menores o iguales que 5 y dividamos por el total de repeticiones que hicimos, ``N``."
      ],
      "metadata": {
        "id": "pVw7EPAOZcn5"
      }
    },
    {
      "cell_type": "code",
      "source": [
        "def es_menor_cinco(muestra):\n",
        "    return muestra <= [5]\n",
        "\n",
        "prob = sum(1 for e in muestra if es_menor_cinco(e))/N\n",
        "print('Probabilidad aproximada de que se necesiten a lo sumo 5 lanzamientos:', prob)"
      ],
      "metadata": {
        "colab": {
          "base_uri": "https://localhost:8080/"
        },
        "id": "5yBJzQD0ZcNq",
        "outputId": "2567f636-23d0-4972-ac07-26b7b4162139"
      },
      "execution_count": null,
      "outputs": [
        {
          "output_type": "stream",
          "name": "stdout",
          "text": [
            "Probabilidad aproximada de que se necesiten a lo sumo 5 lanzamientos: 0.968\n"
          ]
        }
      ]
    },
    {
      "cell_type": "markdown",
      "source": [
        "En efecto, ¡la estimación parece ser muy buena! O al menos, da un valor \"cercano\" al que obuvimos de forma exacta."
      ],
      "metadata": {
        "id": "pZvQCTBIcbnj"
      }
    },
    {
      "cell_type": "markdown",
      "metadata": {
        "id": "Uoe78x1ck9Q3"
      },
      "source": [
        "## Convergencia de la distribución binomial a la Poisson\n",
        "\n",
        "Para cerrar este trabajo con variables aleatorias discretas en Python, exploraremos una visualización de la aproximación de la binomial a la Poisson y veremos, empíricamente, aquello que estudiamos desde la teoría."
      ]
    },
    {
      "cell_type": "markdown",
      "source": [
        "Visualicemos las funciones de probabilidad puntual de $X\\sim Binom(100, 0.01)$ y de $Y\\sim Pois(1)$. Notemos que el rango de $X$ es finito, pero muy \"largo\", y como $p$ es muy pequeño, las probabilidades puntuales en el extremo derecho son prácticamente nulas, casi todo está concentrado en la región izquierda del rango. El rango de $Y$ es infinito y, como ya vimos, solo podremos evalaurla en Python en un rango finito. Pero, de nuevo, las probabilidades puntuales en el extremo derecho del rango serán cada vez más pequeñas, prácticamente 0.\n",
        "\n",
        "Para facilitar la comparación, evaluemos ambas en un mismo rango en donde la visualización sea razonable."
      ],
      "metadata": {
        "id": "VWuDxNaqqInM"
      }
    },
    {
      "cell_type": "code",
      "source": [
        "# Repeticiones independientes\n",
        "n = 100\n",
        "\n",
        "# Probabilidad de \"éxito\"\n",
        "p = 0.01\n",
        "\n",
        "# Definimos la binomial\n",
        "binomial = stats.binom(n, p)\n",
        "\n",
        "# Rango de X\n",
        "x = range(0,11)\n",
        "\n",
        "# Evaluamos la función de probabilidad puntual (fpp) en los x del rango\n",
        "px = binomial.pmf(x)\n",
        "\n",
        "# Hacemos un gráfico de la fpp\n",
        "plt.vlines(x, 0, px, colors='C0', lw=5)\n",
        "plt.xlabel('$x \\in R_X$')\n",
        "plt.ylabel('$p_X(x)=P(X=x)$')\n",
        "plt.title(f\"$X \\sim$ Bi(%d, %.2f)\" % (n,p));"
      ],
      "metadata": {
        "id": "pAsIAR8OfGHF",
        "colab": {
          "base_uri": "https://localhost:8080/",
          "height": 476
        },
        "outputId": "4bc73de8-a0f0-4bc1-9ddd-9ae9be3e6741"
      },
      "execution_count": null,
      "outputs": [
        {
          "output_type": "display_data",
          "data": {
            "text/plain": [
              "<Figure size 640x480 with 1 Axes>"
            ],
            "image/png": "[encoded data removed]"
          },
          "metadata": {}
        }
      ]
    },
    {
      "cell_type": "code",
      "source": [
        "# Intensidad\n",
        "lamb = n*p\n",
        "\n",
        "# Definimos la poisson\n",
        "poisson = stats.poisson(lamb)\n",
        "\n",
        "# Rango de X (es N_0, pero como es infinito, podremos solo evaluarla en un rango acotado)\n",
        "n = 10\n",
        "x = range(0,n+1)\n",
        "\n",
        "# Evaluamos la función de probabilidad puntual (fpp) en los x del rango\n",
        "px = poisson.pmf(x)\n",
        "\n",
        "# Hacemos un gráfico de la fpp\n",
        "plt.vlines(x, 0, px, colors='C0', lw=5)\n",
        "plt.xlabel('$y \\in R_Y$')\n",
        "plt.ylabel('$p_Y(y)=P(Y=y)$')\n",
        "plt.title(f\"$Y \\sim$ Poi($\\lambda=np=$%.2f)\" % (lamb));"
      ],
      "metadata": {
        "colab": {
          "base_uri": "https://localhost:8080/",
          "height": 477
        },
        "id": "GG6lXybu6ZGU",
        "outputId": "fb1f6518-f9a6-4f8c-c9da-12818c2034dd"
      },
      "execution_count": null,
      "outputs": [
        {
          "output_type": "display_data",
          "data": {
            "text/plain": [
              "<Figure size 640x480 with 1 Axes>"
            ],
            "image/png": "[encoded data removed]"
          },
          "metadata": {}
        }
      ]
    },
    {
      "cell_type": "markdown",
      "source": [
        "Una comparación rápida de ambos gráficos parece sugerir que sus probabilidades puntuales son muy parecidas. Para facilitar la comparación, grafiquemos ambas en un mismo sistema."
      ],
      "metadata": {
        "id": "m-RWIlDJ6X7d"
      }
    },
    {
      "cell_type": "code",
      "source": [
        "# Repeticiones independientes\n",
        "n = 100\n",
        "\n",
        "# Probabilidad de \"éxito\"\n",
        "p = 0.01\n",
        "\n",
        "# Intensidad\n",
        "lamb = n*p\n",
        "\n",
        "# Definimos la binomial y la poisson\n",
        "binomial = stats.binom(n, p)\n",
        "poisson = stats.poisson(lamb)\n",
        "\n",
        "# Rango de X (el mismo para ambas)\n",
        "x = range(0,11)\n",
        "\n",
        "# Evaluamos la función de probabilidad puntual (fpp) en los x del rango\n",
        "px1 = binomial.pmf(x)\n",
        "px2 = poisson.pmf(x)\n",
        "\n",
        "# Hacemos un gráfico de la fpp\n",
        "plt.vlines(x, 0, px1, colors='C0', lw=10)\n",
        "plt.vlines(x, 0, px2, colors='C1', lw=5)\n",
        "plt.xlabel('$x \\in R_X$')\n",
        "plt.ylabel('$p_X(x)=P(X=x)$')\n",
        "plt.title(f\"$X_1 \\sim$ Bi(%d, %.2f)  vs  $X_2 \\sim$ Poi($\\lambda=np=$%.2f)\" % (n,p,lamb));"
      ],
      "metadata": {
        "colab": {
          "base_uri": "https://localhost:8080/",
          "height": 476
        },
        "id": "ZZ9ZXKfI64Qz",
        "outputId": "88919cc9-4cb8-437f-f06b-235e3d214b69"
      },
      "execution_count": null,
      "outputs": [
        {
          "output_type": "display_data",
          "data": {
            "text/plain": [
              "<Figure size 640x480 with 1 Axes>"
            ],
            "image/png": "[encoded data removed]"
          },
          "metadata": {}
        }
      ]
    },
    {
      "cell_type": "markdown",
      "source": [
        "Para los parámetros fijados, ¡son casi indistinguibles! Podemos, de hecho, calcular la diferencia entre ambas y ver que, en general, siempre conseguimos aproximación a las milésimas, salvo, quizás, para los primeros elementos del rango."
      ],
      "metadata": {
        "id": "jDDIeAJs9id4"
      }
    },
    {
      "cell_type": "code",
      "source": [
        "# Observemos qué ocurre con las diferencias entre las fpp\n",
        "# (¡con mucha precisión, ambas fpp difieren muy poco!)\n",
        "px1-px2"
      ],
      "metadata": {
        "colab": {
          "base_uri": "https://localhost:8080/"
        },
        "id": "1quBREwo8GoP",
        "outputId": "9f53743f-9d6c-4d32-d00f-9caad4773b71"
      },
      "execution_count": null,
      "outputs": [
        {
          "output_type": "execute_result",
          "data": {
            "text/plain": [
              "array([-0.0018471 ,  0.0018502 ,  0.0009251 , -0.00031407, -0.0003866 ,\n",
              "       -0.00016787, -0.00004749, -0.00001013, -0.00000174, -0.00000025,\n",
              "       -0.00000003])"
            ]
          },
          "metadata": {},
          "execution_count": 27
        }
      ]
    },
    {
      "cell_type": "markdown",
      "source": [
        "Más aún, si hacemos esas diferencias en el rango completo de la binomial (de 0 a 100), la precisión es altísima en casi todos lados."
      ],
      "metadata": {
        "id": "93NUhaav9xwl"
      }
    },
    {
      "cell_type": "code",
      "source": [
        "# Y si lo hacemos en el rango completo de la binomial...\n",
        "x = range(0,n+1)\n",
        "\n",
        "# Re-evaluamos la función de probabilidad puntual (fpp) en los x del rango\n",
        "px1 = binomial.pmf(x)\n",
        "px2 = poisson.pmf(x)\n",
        "\n",
        "# ¡La precisión es altísima para los x \"grandes\"! Es casi 0 la diferencia\n",
        "px1-px2"
      ],
      "metadata": {
        "colab": {
          "base_uri": "https://localhost:8080/"
        },
        "id": "eCesICZL88lT",
        "outputId": "275a97d8-693e-40d0-f5c2-569bd4473159"
      },
      "execution_count": null,
      "outputs": [
        {
          "output_type": "execute_result",
          "data": {
            "text/plain": [
              "array([-0.0018471 ,  0.0018502 ,  0.0009251 , -0.00031407, -0.0003866 ,\n",
              "       -0.00016787, -0.00004749, -0.00001013, -0.00000174, -0.00000025,\n",
              "       -0.00000003, -0.        , -0.        , -0.        , -0.        ,\n",
              "       -0.        , -0.        , -0.        , -0.        , -0.        ,\n",
              "       -0.        , -0.        , -0.        , -0.        , -0.        ,\n",
              "       -0.        , -0.        , -0.        , -0.        , -0.        ,\n",
              "       -0.        , -0.        , -0.        , -0.        , -0.        ,\n",
              "       -0.        , -0.        , -0.        , -0.        , -0.        ,\n",
              "       -0.        , -0.        , -0.        , -0.        , -0.        ,\n",
              "       -0.        , -0.        , -0.        , -0.        , -0.        ,\n",
              "       -0.        , -0.        , -0.        , -0.        , -0.        ,\n",
              "       -0.        , -0.        , -0.        , -0.        , -0.        ,\n",
              "       -0.        , -0.        , -0.        , -0.        , -0.        ,\n",
              "       -0.        , -0.        , -0.        , -0.        , -0.        ,\n",
              "       -0.        , -0.        , -0.        , -0.        , -0.        ,\n",
              "       -0.        , -0.        , -0.        , -0.        , -0.        ,\n",
              "       -0.        , -0.        , -0.        , -0.        , -0.        ,\n",
              "       -0.        , -0.        , -0.        , -0.        , -0.        ,\n",
              "       -0.        , -0.        , -0.        , -0.        , -0.        ,\n",
              "       -0.        , -0.        , -0.        , -0.        , -0.        ,\n",
              "       -0.        ])"
            ]
          },
          "metadata": {},
          "execution_count": 28
        }
      ]
    },
    {
      "cell_type": "markdown",
      "source": [
        "Para evaluar empíricamente la convergencia como tal (más allá de la aproximación que ya vimos), deberíamos ver qué ocurre cuando $n$ se hace cada vez más grande, y no solo para un $n$ grande arbitrario que hayamos considerado (como lo hicimos acá suponiendo $n=100$)."
      ],
      "metadata": {
        "id": "qt7IbDSZ-AOm"
      }
    }
  ],
  "metadata": {
    "kernelspec": {
      "display_name": "Python 3 (ipykernel)",
      "language": "python",
      "name": "python3"
    },
    "language_info": {
      "codemirror_mode": {
        "name": "ipython",
        "version": 3
      },
      "file_extension": ".py",
      "mimetype": "text/x-python",
      "name": "python",
      "nbconvert_exporter": "python",
      "pygments_lexer": "ipython3",
      "version": "3.8.10"
    },
    "colab": {
      "provenance": [],
      "include_colab_link": true
    }
  },
  "nbformat": 4,
  "nbformat_minor": 0
}