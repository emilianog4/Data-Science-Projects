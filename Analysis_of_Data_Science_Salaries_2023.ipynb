{
  "nbformat": 4,
  "nbformat_minor": 0,
  "metadata": {
    "colab": {
      "provenance": [],
      "authorship_tag": "ABX9TyOuztbkBK2+LahXGxPT9H0L",
      "include_colab_link": true
    },
    "kernelspec": {
      "name": "python3",
      "display_name": "Python 3"
    },
    "language_info": {
      "name": "python"
    },
    "accelerator": "GPU",
    "gpuClass": "standard"
  },
  "cells": [
    {
      "cell_type": "markdown",
      "metadata": {
        "id": "view-in-github",
        "colab_type": "text"
      },
      "source": [
        "<a href=\"https://colab.research.google.com/github/emilianog4/Data-Science-Projects/blob/main/Analysis_of_Data_Science_Salaries_2023.ipynb\" target=\"_parent\"><img src=\"https://colab.research.google.com/assets/colab-badge.svg\" alt=\"Open In Colab\"/></a>"
      ]
    },
    {
      "cell_type": "markdown",
      "source": [
        "# Instalar kaggle"
      ],
      "metadata": {
        "id": "P4cspKARH64l"
      }
    },
    {
      "cell_type": "code",
      "source": [
        "pip install kaggle"
      ],
      "metadata": {
        "colab": {
          "base_uri": "https://localhost:8080/"
        },
        "id": "x3xaMVOXsgi7",
        "outputId": "9953888f-123a-4087-c5db-80ee26c7f412"
      },
      "execution_count": 1,
      "outputs": [
        {
          "output_type": "stream",
          "name": "stdout",
          "text": [
            "Looking in indexes: https://pypi.org/simple, https://us-python.pkg.dev/colab-wheels/public/simple/\n",
            "Requirement already satisfied: kaggle in /usr/local/lib/python3.9/dist-packages (1.5.13)\n",
            "Requirement already satisfied: python-dateutil in /usr/local/lib/python3.9/dist-packages (from kaggle) (2.8.2)\n",
            "Requirement already satisfied: tqdm in /usr/local/lib/python3.9/dist-packages (from kaggle) (4.65.0)\n",
            "Requirement already satisfied: requests in /usr/local/lib/python3.9/dist-packages (from kaggle) (2.27.1)\n",
            "Requirement already satisfied: python-slugify in /usr/local/lib/python3.9/dist-packages (from kaggle) (8.0.1)\n",
            "Requirement already satisfied: urllib3 in /usr/local/lib/python3.9/dist-packages (from kaggle) (1.26.15)\n",
            "Requirement already satisfied: certifi in /usr/local/lib/python3.9/dist-packages (from kaggle) (2022.12.7)\n",
            "Requirement already satisfied: six>=1.10 in /usr/local/lib/python3.9/dist-packages (from kaggle) (1.16.0)\n",
            "Requirement already satisfied: text-unidecode>=1.3 in /usr/local/lib/python3.9/dist-packages (from python-slugify->kaggle) (1.3)\n",
            "Requirement already satisfied: idna<4,>=2.5 in /usr/local/lib/python3.9/dist-packages (from requests->kaggle) (3.4)\n",
            "Requirement already satisfied: charset-normalizer~=2.0.0 in /usr/local/lib/python3.9/dist-packages (from requests->kaggle) (2.0.12)\n"
          ]
        }
      ]
    },
    {
      "cell_type": "markdown",
      "source": [
        "# Subo el kaggle.json de mi cuenta"
      ],
      "metadata": {
        "id": "v84tzDs5H_mD"
      }
    },
    {
      "cell_type": "code",
      "source": [
        "from google.colab import files\n",
        "files.upload()"
      ],
      "metadata": {
        "colab": {
          "base_uri": "https://localhost:8080/",
          "height": 93
        },
        "id": "6RpjyhhZsiqY",
        "outputId": "3be1044b-4d2e-4d6a-a721-6a4153f369fb"
      },
      "execution_count": 2,
      "outputs": [
        {
          "output_type": "display_data",
          "data": {
            "text/plain": [
              "<IPython.core.display.HTML object>"
            ],
            "text/html": [
              "\n",
              "     <input type=\"file\" id=\"files-aca598ff-f9f8-4cd6-8f40-1f26652d4557\" name=\"files[]\" multiple disabled\n",
              "        style=\"border:none\" />\n",
              "     <output id=\"result-aca598ff-f9f8-4cd6-8f40-1f26652d4557\">\n",
              "      Upload widget is only available when the cell has been executed in the\n",
              "      current browser session. Please rerun this cell to enable.\n",
              "      </output>\n",
              "      <script>// Copyright 2017 Google LLC\n",
              "//\n",
              "// Licensed under the Apache License, Version 2.0 (the \"License\");\n",
              "// you may not use this file except in compliance with the License.\n",
              "// You may obtain a copy of the License at\n",
              "//\n",
              "//      http://www.apache.org/licenses/LICENSE-2.0\n",
              "//\n",
              "// Unless required by applicable law or agreed to in writing, software\n",
              "// distributed under the License is distributed on an \"AS IS\" BASIS,\n",
              "// WITHOUT WARRANTIES OR CONDITIONS OF ANY KIND, either express or implied.\n",
              "// See the License for the specific language governing permissions and\n",
              "// limitations under the License.\n",
              "\n",
              "/**\n",
              " * @fileoverview Helpers for google.colab Python module.\n",
              " */\n",
              "(function(scope) {\n",
              "function span(text, styleAttributes = {}) {\n",
              "  const element = document.createElement('span');\n",
              "  element.textContent = text;\n",
              "  for (const key of Object.keys(styleAttributes)) {\n",
              "    element.style[key] = styleAttributes[key];\n",
              "  }\n",
              "  return element;\n",
              "}\n",
              "\n",
              "// Max number of bytes which will be uploaded at a time.\n",
              "const MAX_PAYLOAD_SIZE = 100 * 1024;\n",
              "\n",
              "function _uploadFiles(inputId, outputId) {\n",
              "  const steps = uploadFilesStep(inputId, outputId);\n",
              "  const outputElement = document.getElementById(outputId);\n",
              "  // Cache steps on the outputElement to make it available for the next call\n",
              "  // to uploadFilesContinue from Python.\n",
              "  outputElement.steps = steps;\n",
              "\n",
              "  return _uploadFilesContinue(outputId);\n",
              "}\n",
              "\n",
              "// This is roughly an async generator (not supported in the browser yet),\n",
              "// where there are multiple asynchronous steps and the Python side is going\n",
              "// to poll for completion of each step.\n",
              "// This uses a Promise to block the python side on completion of each step,\n",
              "// then passes the result of the previous step as the input to the next step.\n",
              "function _uploadFilesContinue(outputId) {\n",
              "  const outputElement = document.getElementById(outputId);\n",
              "  const steps = outputElement.steps;\n",
              "\n",
              "  const next = steps.next(outputElement.lastPromiseValue);\n",
              "  return Promise.resolve(next.value.promise).then((value) => {\n",
              "    // Cache the last promise value to make it available to the next\n",
              "    // step of the generator.\n",
              "    outputElement.lastPromiseValue = value;\n",
              "    return next.value.response;\n",
              "  });\n",
              "}\n",
              "\n",
              "/**\n",
              " * Generator function which is called between each async step of the upload\n",
              " * process.\n",
              " * @param {string} inputId Element ID of the input file picker element.\n",
              " * @param {string} outputId Element ID of the output display.\n",
              " * @return {!Iterable<!Object>} Iterable of next steps.\n",
              " */\n",
              "function* uploadFilesStep(inputId, outputId) {\n",
              "  const inputElement = document.getElementById(inputId);\n",
              "  inputElement.disabled = false;\n",
              "\n",
              "  const outputElement = document.getElementById(outputId);\n",
              "  outputElement.innerHTML = '';\n",
              "\n",
              "  const pickedPromise = new Promise((resolve) => {\n",
              "    inputElement.addEventListener('change', (e) => {\n",
              "      resolve(e.target.files);\n",
              "    });\n",
              "  });\n",
              "\n",
              "  const cancel = document.createElement('button');\n",
              "  inputElement.parentElement.appendChild(cancel);\n",
              "  cancel.textContent = 'Cancel upload';\n",
              "  const cancelPromise = new Promise((resolve) => {\n",
              "    cancel.onclick = () => {\n",
              "      resolve(null);\n",
              "    };\n",
              "  });\n",
              "\n",
              "  // Wait for the user to pick the files.\n",
              "  const files = yield {\n",
              "    promise: Promise.race([pickedPromise, cancelPromise]),\n",
              "    response: {\n",
              "      action: 'starting',\n",
              "    }\n",
              "  };\n",
              "\n",
              "  cancel.remove();\n",
              "\n",
              "  // Disable the input element since further picks are not allowed.\n",
              "  inputElement.disabled = true;\n",
              "\n",
              "  if (!files) {\n",
              "    return {\n",
              "      response: {\n",
              "        action: 'complete',\n",
              "      }\n",
              "    };\n",
              "  }\n",
              "\n",
              "  for (const file of files) {\n",
              "    const li = document.createElement('li');\n",
              "    li.append(span(file.name, {fontWeight: 'bold'}));\n",
              "    li.append(span(\n",
              "        `(${file.type || 'n/a'}) - ${file.size} bytes, ` +\n",
              "        `last modified: ${\n",
              "            file.lastModifiedDate ? file.lastModifiedDate.toLocaleDateString() :\n",
              "                                    'n/a'} - `));\n",
              "    const percent = span('0% done');\n",
              "    li.appendChild(percent);\n",
              "\n",
              "    outputElement.appendChild(li);\n",
              "\n",
              "    const fileDataPromise = new Promise((resolve) => {\n",
              "      const reader = new FileReader();\n",
              "      reader.onload = (e) => {\n",
              "        resolve(e.target.result);\n",
              "      };\n",
              "      reader.readAsArrayBuffer(file);\n",
              "    });\n",
              "    // Wait for the data to be ready.\n",
              "    let fileData = yield {\n",
              "      promise: fileDataPromise,\n",
              "      response: {\n",
              "        action: 'continue',\n",
              "      }\n",
              "    };\n",
              "\n",
              "    // Use a chunked sending to avoid message size limits. See b/62115660.\n",
              "    let position = 0;\n",
              "    do {\n",
              "      const length = Math.min(fileData.byteLength - position, MAX_PAYLOAD_SIZE);\n",
              "      const chunk = new Uint8Array(fileData, position, length);\n",
              "      position += length;\n",
              "\n",
              "      const base64 = btoa(String.fromCharCode.apply(null, chunk));\n",
              "      yield {\n",
              "        response: {\n",
              "          action: 'append',\n",
              "          file: file.name,\n",
              "          data: base64,\n",
              "        },\n",
              "      };\n",
              "\n",
              "      let percentDone = fileData.byteLength === 0 ?\n",
              "          100 :\n",
              "          Math.round((position / fileData.byteLength) * 100);\n",
              "      percent.textContent = `${percentDone}% done`;\n",
              "\n",
              "    } while (position < fileData.byteLength);\n",
              "  }\n",
              "\n",
              "  // All done.\n",
              "  yield {\n",
              "    response: {\n",
              "      action: 'complete',\n",
              "    }\n",
              "  };\n",
              "}\n",
              "\n",
              "scope.google = scope.google || {};\n",
              "scope.google.colab = scope.google.colab || {};\n",
              "scope.google.colab._files = {\n",
              "  _uploadFiles,\n",
              "  _uploadFilesContinue,\n",
              "};\n",
              "})(self);\n",
              "</script> "
            ]
          },
          "metadata": {}
        },
        {
          "output_type": "stream",
          "name": "stdout",
          "text": [
            "Saving kaggle.json to kaggle.json\n"
          ]
        },
        {
          "output_type": "execute_result",
          "data": {
            "text/plain": [
              "{'kaggle.json': b'{\"username\":\"emilianogutierrez4\",\"key\":\"232fc2593143ee01001b613948a44b67\"}'}"
            ]
          },
          "metadata": {},
          "execution_count": 2
        }
      ]
    },
    {
      "cell_type": "code",
      "source": [
        "!ls -lha kaggle.json"
      ],
      "metadata": {
        "id": "1HPkwX0Bu29A",
        "colab": {
          "base_uri": "https://localhost:8080/"
        },
        "outputId": "3ad0a79e-beb0-42da-f583-99cefe939b8c"
      },
      "execution_count": 3,
      "outputs": [
        {
          "output_type": "stream",
          "name": "stdout",
          "text": [
            "-rw-r--r-- 1 root root 74 Apr 26 16:20 kaggle.json\n"
          ]
        }
      ]
    },
    {
      "cell_type": "code",
      "source": [
        "!mkdir -p ~/.kaggle\n",
        "!cp kaggle.json ~/.kaggle/"
      ],
      "metadata": {
        "id": "6yXD0CAovsXJ"
      },
      "execution_count": 4,
      "outputs": []
    },
    {
      "cell_type": "code",
      "source": [
        "!chmod 600 ~/.kaggle/kaggle.json"
      ],
      "metadata": {
        "id": "fNdAXCNGvxeb"
      },
      "execution_count": 5,
      "outputs": []
    },
    {
      "cell_type": "markdown",
      "source": [
        "# Cargo el dataset de kaggle, en este caso ***los salarios de data science en 2023***"
      ],
      "metadata": {
        "id": "YCxeliIiIHLX"
      }
    },
    {
      "cell_type": "code",
      "source": [
        "!kaggle datasets download -d 'arnabchaki/data-science-salaries-2023'"
      ],
      "metadata": {
        "colab": {
          "base_uri": "https://localhost:8080/"
        },
        "id": "IHlUii4wv1zh",
        "outputId": "6f33ad1e-f59f-447c-eab7-50b4b3844d72"
      },
      "execution_count": 6,
      "outputs": [
        {
          "output_type": "stream",
          "name": "stdout",
          "text": [
            "Downloading data-science-salaries-2023.zip to /content\n",
            "\r  0% 0.00/25.4k [00:00<?, ?B/s]\n",
            "\r100% 25.4k/25.4k [00:00<00:00, 1.43MB/s]\n"
          ]
        }
      ]
    },
    {
      "cell_type": "markdown",
      "source": [
        "## como se descarga en un archivo .zip lo tengo que descomprimir para utilizarlo"
      ],
      "metadata": {
        "id": "CAaZiiM6IdoB"
      }
    },
    {
      "cell_type": "code",
      "source": [
        "!unzip 'data-science-salaries-2023.zip'"
      ],
      "metadata": {
        "colab": {
          "base_uri": "https://localhost:8080/"
        },
        "id": "b6UYb94fwSRV",
        "outputId": "349aeb2d-ed41-4b7b-871e-e9f522a53d3a"
      },
      "execution_count": 7,
      "outputs": [
        {
          "output_type": "stream",
          "name": "stdout",
          "text": [
            "Archive:  data-science-salaries-2023.zip\n",
            "  inflating: ds_salaries.csv         \n"
          ]
        }
      ]
    },
    {
      "cell_type": "markdown",
      "source": [
        "# Importo las librerias de pandas y numpy"
      ],
      "metadata": {
        "id": "RTxNiuIlIjKt"
      }
    },
    {
      "cell_type": "code",
      "source": [
        "import pandas as pd\n",
        "import numpy as np"
      ],
      "metadata": {
        "id": "LGwcdQowwCkS"
      },
      "execution_count": 8,
      "outputs": []
    },
    {
      "cell_type": "markdown",
      "source": [
        "# Leo el dataset de ds_salaries.csv y veo que columnas contiene"
      ],
      "metadata": {
        "id": "BDOkzilGImxs"
      }
    },
    {
      "cell_type": "code",
      "source": [
        "df = pd.read_csv('ds_salaries.csv')\n",
        "#unique_values = df.job_title.unique()\n",
        "#unique_values\n",
        "\n",
        "df.columns"
      ],
      "metadata": {
        "colab": {
          "base_uri": "https://localhost:8080/"
        },
        "id": "MwwDLdqowfxS",
        "outputId": "6e34a24d-98a4-4fc6-9c81-39d85b3fd0bc"
      },
      "execution_count": 9,
      "outputs": [
        {
          "output_type": "execute_result",
          "data": {
            "text/plain": [
              "Index(['work_year', 'experience_level', 'employment_type', 'job_title',\n",
              "       'salary', 'salary_currency', 'salary_in_usd', 'employee_residence',\n",
              "       'remote_ratio', 'company_location', 'company_size'],\n",
              "      dtype='object')"
            ]
          },
          "metadata": {},
          "execution_count": 9
        }
      ]
    },
    {
      "cell_type": "markdown",
      "source": [
        "# Creo una nueva columna \"salario en pesos argentinos\" \n",
        "### Para esto multiplico la columna de salario en dolares * 450 que es el precio actual del dolar en Argentina "
      ],
      "metadata": {
        "id": "LlsEOQ85IuSU"
      }
    },
    {
      "cell_type": "code",
      "source": [
        "df['salary_in_pesos_argentinos'] = df['salary_in_usd'] * 450\n",
        "df['salary_in_pesos_argentinos']"
      ],
      "metadata": {
        "colab": {
          "base_uri": "https://localhost:8080/"
        },
        "id": "v_MQb2rw2cup",
        "outputId": "1a071d40-f9aa-4870-d643-b44bae1ed92e"
      },
      "execution_count": 10,
      "outputs": [
        {
          "output_type": "execute_result",
          "data": {
            "text/plain": [
              "0        38631150\n",
              "1        13500000\n",
              "2        11475000\n",
              "3        78750000\n",
              "4        54000000\n",
              "          ...    \n",
              "3750    185400000\n",
              "3751     67950000\n",
              "3752     47250000\n",
              "3753     45000000\n",
              "3754     42599250\n",
              "Name: salary_in_pesos_argentinos, Length: 3755, dtype: int64"
            ]
          },
          "metadata": {},
          "execution_count": 10
        }
      ]
    },
    {
      "cell_type": "markdown",
      "source": [
        "# Ordeno los valores de la columna salario en pesos argentinos de menor a mayor "
      ],
      "metadata": {
        "id": "4vPtmCANJbKY"
      }
    },
    {
      "cell_type": "code",
      "source": [
        "df['salary_in_pesos_argentinos'].sort_values(ascending=True)"
      ],
      "metadata": {
        "colab": {
          "base_uri": "https://localhost:8080/"
        },
        "id": "enn1LYntFNQq",
        "outputId": "ee74b8d4-2e8c-44fa-c378-873b6536dfdc"
      },
      "execution_count": 11,
      "outputs": [
        {
          "output_type": "execute_result",
          "data": {
            "text/plain": [
              "2684      2309400\n",
              "2578      2434050\n",
              "3537      2434050\n",
              "3667      2555550\n",
              "3685      2568150\n",
              "          ...    \n",
              "3675    187200000\n",
              "3747    190350000\n",
              "528     190725300\n",
              "2011    193935150\n",
              "3522    202500000\n",
              "Name: salary_in_pesos_argentinos, Length: 3755, dtype: int64"
            ]
          },
          "metadata": {},
          "execution_count": 11
        }
      ]
    },
    {
      "cell_type": "markdown",
      "source": [
        "# Creo una nueva columna con el salario por mes expresado en pesos argentinos"
      ],
      "metadata": {
        "id": "tWhDwJOOJkiy"
      }
    },
    {
      "cell_type": "code",
      "source": [
        "df['salary_per_month'] = df['salary_in_pesos_argentinos'] / 12\n",
        "df['salary_per_month'].sort_values()"
      ],
      "metadata": {
        "colab": {
          "base_uri": "https://localhost:8080/"
        },
        "id": "Fde9awS-HF2J",
        "outputId": "9b93d291-b90e-4766-9722-669f239d7942"
      },
      "execution_count": 12,
      "outputs": [
        {
          "output_type": "execute_result",
          "data": {
            "text/plain": [
              "2684      192450.0\n",
              "2578      202837.5\n",
              "3537      202837.5\n",
              "3667      212962.5\n",
              "3685      214012.5\n",
              "           ...    \n",
              "3675    15600000.0\n",
              "3747    15862500.0\n",
              "528     15893775.0\n",
              "2011    16161262.5\n",
              "3522    16875000.0\n",
              "Name: salary_per_month, Length: 3755, dtype: float64"
            ]
          },
          "metadata": {},
          "execution_count": 12
        }
      ]
    },
    {
      "cell_type": "markdown",
      "source": [
        "# Me posiciono en la fila del salario menor y observo que el job_title = NLP Engineer"
      ],
      "metadata": {
        "id": "OAe9_dM8Jt_Y"
      }
    },
    {
      "cell_type": "code",
      "source": [
        "df.loc[2684]"
      ],
      "metadata": {
        "colab": {
          "base_uri": "https://localhost:8080/"
        },
        "id": "2QTq3x-cHXDq",
        "outputId": "049e1f94-89c2-4836-ebf4-679af064c426"
      },
      "execution_count": 13,
      "outputs": [
        {
          "output_type": "execute_result",
          "data": {
            "text/plain": [
              "work_year                             2022\n",
              "experience_level                        MI\n",
              "employment_type                         FT\n",
              "job_title                     NLP Engineer\n",
              "salary                              120000\n",
              "salary_currency                        CZK\n",
              "salary_in_usd                         5132\n",
              "employee_residence                      CZ\n",
              "remote_ratio                           100\n",
              "company_location                        CZ\n",
              "company_size                             M\n",
              "salary_in_pesos_argentinos         2309400\n",
              "salary_per_month                  192450.0\n",
              "Name: 2684, dtype: object"
            ]
          },
          "metadata": {},
          "execution_count": 13
        }
      ]
    },
    {
      "cell_type": "markdown",
      "source": [
        "\n",
        "# Me posiciono en la fila del salario Mayor y observo que el job_title = Research Scientist\n",
        "\n",
        "\n",
        "\n"
      ],
      "metadata": {
        "id": "D9Ta4igCJ8me"
      }
    },
    {
      "cell_type": "code",
      "source": [
        "df.loc[3522]"
      ],
      "metadata": {
        "colab": {
          "base_uri": "https://localhost:8080/"
        },
        "id": "_vz_Y0OSHyPq",
        "outputId": "dd21db27-0746-474a-a15c-bfd4e1e8741e"
      },
      "execution_count": 14,
      "outputs": [
        {
          "output_type": "execute_result",
          "data": {
            "text/plain": [
              "work_year                                   2020\n",
              "experience_level                              MI\n",
              "employment_type                               FT\n",
              "job_title                     Research Scientist\n",
              "salary                                    450000\n",
              "salary_currency                              USD\n",
              "salary_in_usd                             450000\n",
              "employee_residence                            US\n",
              "remote_ratio                                   0\n",
              "company_location                              US\n",
              "company_size                                   M\n",
              "salary_in_pesos_argentinos             202500000\n",
              "salary_per_month                      16875000.0\n",
              "Name: 3522, dtype: object"
            ]
          },
          "metadata": {},
          "execution_count": 14
        }
      ]
    },
    {
      "cell_type": "code",
      "source": [
        "df['company_size'].unique() # tamaño de la compania grande, pequeña o mediana"
      ],
      "metadata": {
        "colab": {
          "base_uri": "https://localhost:8080/"
        },
        "id": "I1jSSvlXOpi7",
        "outputId": "cf9cfafb-0ce2-4fcb-9d30-e1c5c519a3e6"
      },
      "execution_count": 15,
      "outputs": [
        {
          "output_type": "execute_result",
          "data": {
            "text/plain": [
              "array(['L', 'S', 'M'], dtype=object)"
            ]
          },
          "metadata": {},
          "execution_count": 15
        }
      ]
    },
    {
      "cell_type": "code",
      "source": [
        "df['experience_level'].unique() # nivel de experiencia del empleado\n",
        "# SE : Senior.\n",
        "# EN : Entry level.\n",
        "# EX : Executive level.\n",
        "# MI : Mid/Intermediate level. "
      ],
      "metadata": {
        "colab": {
          "base_uri": "https://localhost:8080/"
        },
        "id": "4KZLEMeIOvl5",
        "outputId": "a9391b24-5e3d-46d1-d72a-bccb39c533fb"
      },
      "execution_count": 16,
      "outputs": [
        {
          "output_type": "execute_result",
          "data": {
            "text/plain": [
              "array(['SE', 'MI', 'EN', 'EX'], dtype=object)"
            ]
          },
          "metadata": {},
          "execution_count": 16
        }
      ]
    },
    {
      "cell_type": "code",
      "source": [
        "df['employment_type'].unique() # full time , part time , etc"
      ],
      "metadata": {
        "colab": {
          "base_uri": "https://localhost:8080/"
        },
        "id": "cz9WwDlMPDia",
        "outputId": "0081f194-ba62-4850-f0e1-51304f30da17"
      },
      "execution_count": 17,
      "outputs": [
        {
          "output_type": "execute_result",
          "data": {
            "text/plain": [
              "array(['FT', 'CT', 'FL', 'PT'], dtype=object)"
            ]
          },
          "metadata": {},
          "execution_count": 17
        }
      ]
    },
    {
      "cell_type": "markdown",
      "source": [
        "# Ahora filtro para ver los datos de los empleados de Entry Level"
      ],
      "metadata": {
        "id": "rmRK0B07ODbQ"
      }
    },
    {
      "cell_type": "code",
      "source": [
        "df.loc[df['experience_level'] == 'EN']\n",
        "df['salary_in_usd'].sort_values()"
      ],
      "metadata": {
        "colab": {
          "base_uri": "https://localhost:8080/"
        },
        "id": "aq-iwqLfPRPe",
        "outputId": "ce7b7f32-e342-4e84-c843-c9ef41492a26"
      },
      "execution_count": 18,
      "outputs": [
        {
          "output_type": "execute_result",
          "data": {
            "text/plain": [
              "2684      5132\n",
              "2578      5409\n",
              "3537      5409\n",
              "3667      5679\n",
              "3685      5707\n",
              "         ...  \n",
              "3675    416000\n",
              "3747    423000\n",
              "528     423834\n",
              "2011    430967\n",
              "3522    450000\n",
              "Name: salary_in_usd, Length: 3755, dtype: int64"
            ]
          },
          "metadata": {},
          "execution_count": 18
        }
      ]
    },
    {
      "cell_type": "code",
      "source": [
        "df.loc[83] # el empleado con el mayor sueldo de Entry Level"
      ],
      "metadata": {
        "colab": {
          "base_uri": "https://localhost:8080/"
        },
        "id": "W-ZlCleWM9Gt",
        "outputId": "8220140b-9000-426b-b8be-96b257d23e3e"
      },
      "execution_count": 19,
      "outputs": [
        {
          "output_type": "execute_result",
          "data": {
            "text/plain": [
              "work_year                             2022\n",
              "experience_level                        EN\n",
              "employment_type                         FT\n",
              "job_title                     AI Developer\n",
              "salary                              300000\n",
              "salary_currency                        USD\n",
              "salary_in_usd                       300000\n",
              "employee_residence                      IN\n",
              "remote_ratio                            50\n",
              "company_location                        IN\n",
              "company_size                             L\n",
              "salary_in_pesos_argentinos       135000000\n",
              "salary_per_month                11250000.0\n",
              "Name: 83, dtype: object"
            ]
          },
          "metadata": {},
          "execution_count": 19
        }
      ]
    },
    {
      "cell_type": "code",
      "source": [
        "df.loc[2578] # el empleado con el menor sueldo de Entry Level"
      ],
      "metadata": {
        "colab": {
          "base_uri": "https://localhost:8080/"
        },
        "id": "3tAP1ed6kyrG",
        "outputId": "4452b7fa-1fb3-4704-9f0f-ab68f3142d1d"
      },
      "execution_count": 20,
      "outputs": [
        {
          "output_type": "execute_result",
          "data": {
            "text/plain": [
              "work_year                                   2021\n",
              "experience_level                              EN\n",
              "employment_type                               FT\n",
              "job_title                     Power BI Developer\n",
              "salary                                    400000\n",
              "salary_currency                              INR\n",
              "salary_in_usd                               5409\n",
              "employee_residence                            IN\n",
              "remote_ratio                                  50\n",
              "company_location                              IN\n",
              "company_size                                   L\n",
              "salary_in_pesos_argentinos               2434050\n",
              "salary_per_month                        202837.5\n",
              "Name: 2578, dtype: object"
            ]
          },
          "metadata": {},
          "execution_count": 20
        }
      ]
    },
    {
      "cell_type": "markdown",
      "source": [
        "# Histograma de los **salarios en dolares**"
      ],
      "metadata": {
        "id": "RQTOwvYSew-5"
      }
    },
    {
      "cell_type": "code",
      "source": [
        "import matplotlib.pyplot as plt\n",
        "\n",
        "# Creo un histograma de la columna salary_in_usd\n",
        "plt.hist(df['salary_in_usd'], bins=10, edgecolor='black', linewidth=1.5)\n",
        "\n",
        "# Añadir etiquetas y título\n",
        "plt.xlabel('Salario (USD)')\n",
        "plt.ylabel('Frecuencia')\n",
        "plt.title('Distribución de salarios')\n",
        "\n",
        "# Mostrar el histograma\n",
        "plt.show()"
      ],
      "metadata": {
        "colab": {
          "base_uri": "https://localhost:8080/",
          "height": 472
        },
        "id": "5Uk_KF1Sl013",
        "outputId": "0a5ac174-6b7c-45b0-ed53-e9a4b5d02a1a"
      },
      "execution_count": 21,
      "outputs": [
        {
          "output_type": "display_data",
          "data": {
            "text/plain": [
              "<Figure size 640x480 with 1 Axes>"
            ],
            "image/png": "[encoded data removed]"
          },
          "metadata": {}
        }
      ]
    },
    {
      "cell_type": "markdown",
      "source": [
        "# Grafico de dispersion de **salario en dolares** vs **nivel de experiencia**"
      ],
      "metadata": {
        "id": "ZcG0gMCzfEzQ"
      }
    },
    {
      "cell_type": "code",
      "source": [
        "import matplotlib.pyplot as plt\n",
        "\n",
        "# Crear un gráfico de dispersión de salary_in_usd y experience_level\n",
        "plt.scatter(df['experience_level'], df['salary'])\n",
        "\n",
        "# Añadir etiquetas y título\n",
        "plt.xlabel('Experiencia laboral (años)')\n",
        "plt.ylabel('Salario (USD)')\n",
        "plt.title('Relación entre experiencia laboral y salario')\n",
        "\n",
        "# Mostrar el gráfico\n",
        "plt.show()\n"
      ],
      "metadata": {
        "colab": {
          "base_uri": "https://localhost:8080/",
          "height": 472
        },
        "id": "HV6RGOjfpP0X",
        "outputId": "265c6f05-558e-471a-faa2-107e4cc960f2"
      },
      "execution_count": 35,
      "outputs": [
        {
          "output_type": "display_data",
          "data": {
            "text/plain": [
              "<Figure size 640x480 with 1 Axes>"
            ],
            "image/png": "[encoded data removed]"
          },
          "metadata": {}
        }
      ]
    },
    {
      "cell_type": "markdown",
      "source": [
        "# Grafico de torta que muestra el porcentaje de trabajadores en remoto, hibrido o presencial "
      ],
      "metadata": {
        "id": "VOZDC2CxkcRB"
      }
    },
    {
      "cell_type": "code",
      "source": [
        "# Creo una lista con los valores únicos de la columna \"remote_ratio\"\n",
        "ratios = df[\"remote_ratio\"].unique()\n",
        "\n",
        "# Contar cuántas veces aparece cada valor en la columna \"remote_ratio\"\n",
        "counts = [len(df[df[\"remote_ratio\"] == ratio]) for ratio in ratios]\n",
        "\n",
        "# Creo un gráfico de torta con los valores de \"counts\" y las etiquetas de \"ratios\"\n",
        "plt.pie(counts, labels=ratios, autopct='%1.1f%%')\n",
        "# Título del gráfico\n",
        "plt.title(\"Proporción de trabajo remoto\")\n",
        "\n",
        "# Creo una lista con las etiquetas de la leyenda\n",
        "labels = [\"0 - presencial\", \"50 - híbrido\", \"100 - remoto\"]\n",
        "\n",
        "# Agregar la leyenda al gráfico\n",
        "plt.legend(labels, loc=\"best\", bbox_to_anchor=(1.2, 1))\n",
        "\n",
        "# Mostrar el gráfico\n",
        "plt.show()"
      ],
      "metadata": {
        "colab": {
          "base_uri": "https://localhost:8080/",
          "height": 429
        },
        "id": "Itdtpoplfa1g",
        "outputId": "e89c821d-c4aa-4bc2-8909-a980e1938beb"
      },
      "execution_count": 48,
      "outputs": [
        {
          "output_type": "display_data",
          "data": {
            "text/plain": [
              "<Figure size 640x480 with 1 Axes>"
            ],
            "image/png": "[encoded data removed]"
          },
          "metadata": {}
        }
      ]
    },
    {
      "cell_type": "code",
      "source": [
        "df.columns"
      ],
      "metadata": {
        "id": "zmA3VzqQx3I_",
        "colab": {
          "base_uri": "https://localhost:8080/"
        },
        "outputId": "32323028-1bb5-449e-e74b-6d776c7d840b"
      },
      "execution_count": 36,
      "outputs": [
        {
          "output_type": "execute_result",
          "data": {
            "text/plain": [
              "Index(['work_year', 'experience_level', 'employment_type', 'job_title',\n",
              "       'salary', 'salary_currency', 'salary_in_usd', 'employee_residence',\n",
              "       'remote_ratio', 'company_location', 'company_size',\n",
              "       'salary_in_pesos_argentinos', 'salary_per_month'],\n",
              "      dtype='object')"
            ]
          },
          "metadata": {},
          "execution_count": 36
        }
      ]
    },
    {
      "cell_type": "code",
      "source": [],
      "metadata": {
        "id": "7dgpCrJ0hARC"
      },
      "execution_count": null,
      "outputs": []
    }
  ]
}