{
 "cells": [
  {
   "cell_type": "code",
   "execution_count": 1,
   "id": "3d2fb531-d8ea-4a4f-9834-08408df79428",
   "metadata": {},
   "outputs": [],
   "source": [
    "import pandas as pd\n",
    "from string import ascii_uppercase as alphabet\n",
    "import pickle\n",
    "from bs4 import BeautifulSoup"
   ]
  },
  {
   "cell_type": "code",
   "execution_count": 2,
   "id": "f22e5b28-d8cd-46b3-8e7b-69443368b806",
   "metadata": {},
   "outputs": [],
   "source": [
    "tablas = pd.read_html(\"https://en.wikipedia.org/wiki/2022_FIFA_World_Cup\")  \n",
    "dict_tablas = {}\n",
    "tablas[9].columns #consulto cuales son las columnas del dataframe para cambiarle el nombre a los que no son muy especificos\n",
    "tablas[9].columns[1] #identifico que en la columna 1 Teamvte puede ser cambiado por solo team y Qualification puede ser borrado\n",
    "# En la posicion 9 esta la primer tabla de grupo A, luego en la 16 el grupo B y asi +7 hasta el grupo H que esta en la posicion 58tab\n",
    "\n",
    "for letter, i in zip(alphabet, range(9, 59, 7)):\n",
    "    df = tablas[i] \n",
    "    df.rename(columns = {df.columns[1] : 'Team'}, inplace=True) #inplace permite guardar los cambios que se van haciendo\n",
    "    #df.pop('Qualification') elimino la columna Qualification\n",
    "    dict_tablas[f'Grupo {letter}'] = df\n",
    "   "
   ]
  },
  {
   "cell_type": "code",
   "execution_count": 3,
   "id": "b5649d56-5578-45e2-8862-e2f63e2baf68",
   "metadata": {},
   "outputs": [
    {
     "data": {
      "text/html": [
       "<div>\n",
       "<style scoped>\n",
       "    .dataframe tbody tr th:only-of-type {\n",
       "        vertical-align: middle;\n",
       "    }\n",
       "\n",
       "    .dataframe tbody tr th {\n",
       "        vertical-align: top;\n",
       "    }\n",
       "\n",
       "    .dataframe thead th {\n",
       "        text-align: right;\n",
       "    }\n",
       "</style>\n",
       "<table border=\"1\" class=\"dataframe\">\n",
       "  <thead>\n",
       "    <tr style=\"text-align: right;\">\n",
       "      <th></th>\n",
       "      <th>Pos</th>\n",
       "      <th>Team</th>\n",
       "      <th>Pld</th>\n",
       "      <th>W</th>\n",
       "      <th>D</th>\n",
       "      <th>L</th>\n",
       "      <th>GF</th>\n",
       "      <th>GA</th>\n",
       "      <th>GD</th>\n",
       "      <th>Pts</th>\n",
       "      <th>Qualification</th>\n",
       "    </tr>\n",
       "  </thead>\n",
       "  <tbody>\n",
       "    <tr>\n",
       "      <th>0</th>\n",
       "      <td>1</td>\n",
       "      <td>Portugal</td>\n",
       "      <td>3</td>\n",
       "      <td>2</td>\n",
       "      <td>0</td>\n",
       "      <td>1</td>\n",
       "      <td>6</td>\n",
       "      <td>4</td>\n",
       "      <td>+2</td>\n",
       "      <td>6</td>\n",
       "      <td>Advanced to knockout stage</td>\n",
       "    </tr>\n",
       "    <tr>\n",
       "      <th>1</th>\n",
       "      <td>2</td>\n",
       "      <td>South Korea</td>\n",
       "      <td>3</td>\n",
       "      <td>1</td>\n",
       "      <td>1</td>\n",
       "      <td>1</td>\n",
       "      <td>4</td>\n",
       "      <td>4</td>\n",
       "      <td>0</td>\n",
       "      <td>4</td>\n",
       "      <td>Advanced to knockout stage</td>\n",
       "    </tr>\n",
       "    <tr>\n",
       "      <th>2</th>\n",
       "      <td>3</td>\n",
       "      <td>Uruguay</td>\n",
       "      <td>3</td>\n",
       "      <td>1</td>\n",
       "      <td>1</td>\n",
       "      <td>1</td>\n",
       "      <td>2</td>\n",
       "      <td>2</td>\n",
       "      <td>0</td>\n",
       "      <td>4</td>\n",
       "      <td>NaN</td>\n",
       "    </tr>\n",
       "    <tr>\n",
       "      <th>3</th>\n",
       "      <td>4</td>\n",
       "      <td>Ghana</td>\n",
       "      <td>3</td>\n",
       "      <td>1</td>\n",
       "      <td>0</td>\n",
       "      <td>2</td>\n",
       "      <td>5</td>\n",
       "      <td>7</td>\n",
       "      <td>−2</td>\n",
       "      <td>3</td>\n",
       "      <td>NaN</td>\n",
       "    </tr>\n",
       "  </tbody>\n",
       "</table>\n",
       "</div>"
      ],
      "text/plain": [
       "   Pos         Team  Pld  W  D  L  GF  GA  GD  Pts               Qualification\n",
       "0    1     Portugal    3  2  0  1   6   4  +2    6  Advanced to knockout stage\n",
       "1    2  South Korea    3  1  1  1   4   4   0    4  Advanced to knockout stage\n",
       "2    3      Uruguay    3  1  1  1   2   2   0    4                         NaN\n",
       "3    4        Ghana    3  1  0  2   5   7  −2    3                         NaN"
      ]
     },
     "execution_count": 3,
     "metadata": {},
     "output_type": "execute_result"
    }
   ],
   "source": [
    "dict_tablas['Grupo H']"
   ]
  },
  {
   "cell_type": "code",
   "execution_count": 10,
   "id": "90b515c8-e5b4-4238-9fee-ef3dcc87320d",
   "metadata": {},
   "outputs": [],
   "source": [
    "with open('dict_table', 'wb') as output: #esto es para guardar todo lo de dict_tablas en output\n",
    "    pickle.dump(dict_tablas, output)"
   ]
  },
  {
   "cell_type": "code",
   "execution_count": null,
   "id": "842eb212-18b5-4d30-b2a3-19944ea18294",
   "metadata": {},
   "outputs": [],
   "source": []
  }
 ],
 "metadata": {
  "kernelspec": {
   "display_name": "anaconda-2022.05-py39",
   "language": "python",
   "name": "conda-env-anaconda-2022.05-py39-py"
  },
  "language_info": {
   "codemirror_mode": {
    "name": "ipython",
    "version": 3
   },
   "file_extension": ".py",
   "mimetype": "text/x-python",
   "name": "python",
   "nbconvert_exporter": "python",
   "pygments_lexer": "ipython3",
   "version": "3.9.12"
  }
 },
 "nbformat": 4,
 "nbformat_minor": 5
}
